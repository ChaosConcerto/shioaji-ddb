{
 "cells": [
  {
   "cell_type": "raw",
   "metadata": {},
   "source": [
    "//    Stream                 Stream\n",
    "//    (RAW)              (With TimeStamp)\n",
    "// |-----------|   sub    |=----------- |   sub with TimeAggr  |-------|   sub StreamOHLC to dfsOHLC     |--------|\n",
    "// | TSE , TFE | =======> | StreamTicks | ===================> | OHLC  |===============================> |dfs OHLC|\n",
    "// |-----------|          |=----------- |                      |-------|                                 |--------|"
   ]
  },
  {
   "cell_type": "markdown",
   "metadata": {},
   "source": [
    "### Create TimeAggr for OHLC form StreamTicks"
   ]
  },
  {
   "cell_type": "code",
   "execution_count": null,
   "metadata": {},
   "outputs": [],
   "source": [
    "TS_Filed = `code`ts`close`volume`amount\n",
    "TS_Type = [SYMBOL,TIMESTAMP,DOUBLE,LONG,DOUBLE]\n",
    "share streamTable(100:0,TS_Filed,TS_Type) as StreamTicks\n",
    "\n",
    "OHLC_Filed = `ts`code`open`high`low`close`volume`amount\n",
    "OHLC_Type = [TIMESTAMP, SYMBOL, DOUBLE,DOUBLE,DOUBLE,DOUBLE,LONG,DOUBLE]\n",
    "share streamTable(100:0,OHLC_Filed,OHLC_Type) as OHLC\n",
    "\n",
    "tsAggrKline = createTimeSeriesAggregator(name=\"Aggr_Kline\", windowSize=60000, step=60000, metrics=<[first(close),max(close),min(close),last(close),sum(volume),sum(amount)]>, dummyTable=StreamTicks, outputTable=OHLC, timeColumn=`ts, keyColumn=`code)//updateTime=1,useWindowStartTime=false)\n",
    "subscribeTable(tableName=\"StreamTicks\", actionName=\"act_tsaggr\", offset=-1, handler=append!{tsAggrKline}, msgAsTable=true)"
   ]
  },
  {
   "cell_type": "markdown",
   "metadata": {},
   "source": [
    "### TickTSE TickTFE to StreamStreamTicks for OHLC"
   ]
  },
  {
   "cell_type": "code",
   "execution_count": null,
   "metadata": {},
   "outputs": [],
   "source": [
    "def AddTsToTicks(mutable TB, msg){  \n",
    "    if(msg.Date.hasNull()){\n",
    "        curDate = msg.Date.max()\n",
    "        if(curDate.isNull())\n",
    "            curDate = today()\n",
    "        msg[`Date] = msg.Date.nullFill(curDate)\n",
    "    }\n",
    "    data = select Code as code ,concatDateTime(Date,Time) as ts ,Close as close ,Volume as volume ,Amount as amount from msg\n",
    "    TB.append!(data)\n",
    "}\n",
    "subscribeTable(,\"StreamTickTSE\", \"TSE_2_Tick\", -1 , AddTsToTicks{StreamTicks} , true)\n",
    "subscribeTable(,\"StreamTickTFE\", \"TFE_2_Tick\", -1 , AddTsToTicks{StreamTicks} , true)"
   ]
  },
  {
   "cell_type": "markdown",
   "metadata": {},
   "source": [
    "### StreamOHLC to DfsOHLC"
   ]
  },
  {
   "cell_type": "code",
   "execution_count": null,
   "metadata": {},
   "outputs": [],
   "source": [
    "def OHLCToDfs(mutable TB, msg){  \n",
    "    data = select code,ts as ts,open,high,low,close,volume,amount from msg\n",
    "    TB.append!(data)\n",
    "}\n",
    "ohlc_tick = loadTable(\"dfs://ohlc\",`ohlc)\n",
    "subscribeTable(,\"OHLC\", \"act_ohlc2dfs\", -1, OHLCToDfs{ohlc_tick} , true)"
   ]
  }
 ],
 "metadata": {
  "kernelspec": {
   "display_name": "Python 3",
   "language": "python",
   "name": "python3"
  },
  "language_info": {
   "codemirror_mode": {
    "name": "ipython",
    "version": 3
   },
   "file_extension": ".py",
   "mimetype": "text/x-python",
   "name": "python",
   "nbconvert_exporter": "python",
   "pygments_lexer": "ipython3",
   "version": "3.7.0"
  }
 },
 "nbformat": 4,
 "nbformat_minor": 4
}
