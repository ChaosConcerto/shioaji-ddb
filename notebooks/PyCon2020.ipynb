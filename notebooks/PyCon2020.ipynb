{
 "cells": [
  {
   "cell_type": "markdown",
   "metadata": {
    "slideshow": {
     "slide_type": "slide"
    }
   },
   "source": [
    "# Deploy Your Model To Live Trading"
   ]
  },
  {
   "cell_type": "markdown",
   "metadata": {
    "slideshow": {
     "slide_type": "subslide"
    }
   },
   "source": [
    "## About Me\n",
    "<img src=\"images/yv_logo_light.png\" alt=\"logo\" style=\"width: 200px;margin: 0 auto;\"/>"
   ]
  },
  {
   "cell_type": "markdown",
   "metadata": {
    "slideshow": {
     "slide_type": "slide"
    }
   },
   "source": [
    "## The Problems We Encounter in Deploying the Model to Live Trading"
   ]
  },
  {
   "cell_type": "markdown",
   "metadata": {
    "slideshow": {
     "slide_type": "fragment"
    }
   },
   "source": [
    "- Without Python API for Linux\n",
    "- Hard to handle multiple contracts\n",
    "- Large-scale tick data with continuous trading after 2020.03.23"
   ]
  },
  {
   "cell_type": "markdown",
   "metadata": {
    "slideshow": {
     "slide_type": "slide"
    }
   },
   "source": [
    "## Let’s Deploy the Model"
   ]
  },
  {
   "cell_type": "markdown",
   "metadata": {
    "slideshow": {
     "slide_type": "fragment"
    }
   },
   "source": [
    "### Demo Case"
   ]
  },
  {
   "cell_type": "markdown",
   "metadata": {
    "slideshow": {
     "slide_type": "subslide"
    }
   },
   "source": [
    "## Model Architecture Overview"
   ]
  },
  {
   "cell_type": "markdown",
   "metadata": {
    "slideshow": {
     "slide_type": "fragment"
    }
   },
   "source": [
    "<img src=\"images/model_overview.svg\" alt=\"model\" style=\"margin: 0 auto;\"/>"
   ]
  },
  {
   "cell_type": "markdown",
   "metadata": {
    "slideshow": {
     "slide_type": "subslide"
    }
   },
   "source": [
    "<img src=\"images/model.png\" alt=\"model\" style=\"height: 720px;margin: 0 auto;\"/>"
   ]
  },
  {
   "cell_type": "markdown",
   "metadata": {
    "slideshow": {
     "slide_type": "subslide"
    }
   },
   "source": [
    "### Convolution Part for Tick TimeSeries"
   ]
  },
  {
   "cell_type": "markdown",
   "metadata": {
    "slideshow": {
     "slide_type": "fragment"
    }
   },
   "source": [
    "<img src=\"images/conv.svg\" alt=\"model\" style=\"margin: 0 auto;\"/>"
   ]
  },
  {
   "cell_type": "markdown",
   "metadata": {
    "slideshow": {
     "slide_type": "subslide"
    }
   },
   "source": [
    "### Fully Connected Part for Domain Knowledge Features"
   ]
  },
  {
   "cell_type": "markdown",
   "metadata": {
    "slideshow": {
     "slide_type": "fragment"
    }
   },
   "source": [
    "- Cumulative Ask vs Bid side deal volume difference ratio\n",
    "- Opening price change percentage\n",
    "- Remaining trading hours of the day"
   ]
  },
  {
   "cell_type": "markdown",
   "metadata": {
    "slideshow": {
     "slide_type": "subslide"
    }
   },
   "source": [
    "### Concat Above Two Features' Extractor and Connect Below Fully Connected"
   ]
  },
  {
   "cell_type": "markdown",
   "metadata": {
    "slideshow": {
     "slide_type": "fragment"
    }
   },
   "source": [
    "<img src=\"images/concat.svg\" alt=\"model\" style=\"margin: 0 auto;\"/>"
   ]
  },
  {
   "cell_type": "markdown",
   "metadata": {
    "slideshow": {
     "slide_type": "subslide"
    }
   },
   "source": [
    "### Take the Top 100 Volume of TSE Stock as Target"
   ]
  },
  {
   "cell_type": "markdown",
   "metadata": {
    "slideshow": {
     "slide_type": "fragment"
    }
   },
   "source": [
    "<img src=\"images/filter.svg\" alt=\"model\" style=\"height: 200px;margin: 0 auto;\"/>"
   ]
  },
  {
   "cell_type": "markdown",
   "metadata": {
    "slideshow": {
     "slide_type": "slide"
    }
   },
   "source": [
    "### How About Realtime Data?"
   ]
  },
  {
   "cell_type": "markdown",
   "metadata": {
    "slideshow": {
     "slide_type": "fragment"
    }
   },
   "source": [
    "#### Let's use shioaji"
   ]
  },
  {
   "cell_type": "code",
   "execution_count": 5,
   "metadata": {
    "slideshow": {
     "slide_type": "fragment"
    }
   },
   "outputs": [],
   "source": [
    "! pip install shioaji"
   ]
  },
  {
   "cell_type": "code",
   "execution_count": 6,
   "metadata": {
    "slideshow": {
     "slide_type": "fragment"
    }
   },
   "outputs": [
    {
     "name": "stdout",
     "output_type": "stream",
     "text": [
      "Response Code: 0 | Event Code: 0 | Info: host '203.66.91.161:80', IP 203.66.91.161:80 (host 1 of 1) (host connection attempt 1 of 1) (total connection attempt 1 of 1) | Event: Session up\n",
      "Response Code: 200 | Event Code: 16 | Info: MKT/*/TSE/2330 | Event: Subscribe or Unsubscribe ok\n"
     ]
    }
   ],
   "source": [
    "import shioaji as sj\n",
    "\n",
    "api = sj.Shioaji()\n",
    "api.login(person_id=\"\", passwd=\"\")\n",
    "\n",
    "@api.quote.on_quote\n",
    "def quote_callback(topic: str, quote: dict):\n",
    "    print(f\"Topic: {topic}, Quote: {quote}\")"
   ]
  },
  {
   "cell_type": "code",
   "execution_count": null,
   "metadata": {
    "slideshow": {
     "slide_type": "fragment"
    }
   },
   "outputs": [],
   "source": [
    "api.quote.subscribe(api.Contracts.Stocks[\"2330\"])"
   ]
  },
  {
   "cell_type": "code",
   "execution_count": 7,
   "metadata": {
    "slideshow": {
     "slide_type": "skip"
    }
   },
   "outputs": [
    {
     "name": "stdout",
     "output_type": "stream",
     "text": [
      "Response Code: 200 | Event Code: 16 | Info: MKT/*/TSE/2330 | Event: Subscribe or Unsubscribe ok\n"
     ]
    }
   ],
   "source": [
    "api.quote.unsubscribe(api.Contracts.Stocks[\"2330\"])"
   ]
  },
  {
   "cell_type": "markdown",
   "metadata": {
    "slideshow": {
     "slide_type": "slide"
    }
   },
   "source": [
    "### Use Pure Python to Engage the Model"
   ]
  },
  {
   "cell_type": "markdown",
   "metadata": {},
   "source": [
    "- init conv input, fc input cache, model, and api"
   ]
  },
  {
   "cell_type": "code",
   "execution_count": 8,
   "metadata": {},
   "outputs": [],
   "source": [
    "class StreamModel:\n",
    "    def __init__(self, codes: list, mode_path: str, threshold: float, api: sj.Shioaji):\n",
    "        self.raw_ticks_dict = defaultdict(list)\n",
    "        self.open_records = {}\n",
    "        self.ask_vol_records = {code: 0 for code in codes}\n",
    "        self.bid_vol_records = {code: 0 for code in codes}\n",
    "        self.input_conv = {code: np.zeros((128, 1, 1)) for code in codes}\n",
    "        self.input_fc = {code: np.zeros((3,)) for code in codes}\n",
    "        self.model = load_model(mode_path)\n",
    "        self.threshold = threshold\n",
    "        self.api = api"
   ]
  },
  {
   "cell_type": "markdown",
   "metadata": {
    "slideshow": {
     "slide_type": "subslide"
    }
   },
   "source": [
    "- define on-quote handler "
   ]
  },
  {
   "cell_type": "code",
   "execution_count": null,
   "metadata": {},
   "outputs": [],
   "source": [
    "    def on_quote_handler(self, topic: str, quote: dict):\n",
    "        if not quote.get(\"SimTrade\"):\n",
    "            symbol_code = topic.split('/')[-1]\n",
    "            if symbol_code not in self.open_records:\n",
    "                self.open_records[symbol_code] = quote[\"Close\"][0]\n",
    "            self.raw_ticks_dict[symbol_code].append({k: v[0] if isinstance(v, list) else v \n",
    "                                                     for k, v in quote.items()})\n",
    "            self.preproc_input_fc(symbol_code, quote)\n",
    "            self.preproc_input_conv(symbol_code, quote)\n",
    "            self.pred2action(symbol_code)"
   ]
  },
  {
   "cell_type": "markdown",
   "metadata": {
    "slideshow": {
     "slide_type": "subslide"
    }
   },
   "source": [
    "- define preprocessing fc part"
   ]
  },
  {
   "cell_type": "code",
   "execution_count": null,
   "metadata": {},
   "outputs": [],
   "source": [
    "    def preproc_input_fc(self, code: str, quote: dict):\n",
    "        if quote.get(\"TickType\") == 1:\n",
    "            self.ask_vol_records += quote.get(\"Volume\", 0)\n",
    "        if quote.get(\"TickType\") == 2:\n",
    "            self.bid_vol_records += quote.get(\"Volume\", 0)\n",
    "        dt = datetime.strptime(quote[\"Date\"]+quote[\"Time\"], \"%Y/%m/%d%H:%M:%S.%f\")\n",
    "        self.input_fc[code][0] = quote.get(\"Close\")[0] / self.open_records[code] - 1\n",
    "        self.input_fc[code][1] = (self.ask_vol_records[code] - self.bid_vol_records[code]) / quote.get(\"VolSum\")[0]\n",
    "        self.input_fc[code][2] = (dt.replace(hour=13, minute=30, \n",
    "                                             second=0, microsecond=0) - dt) / timedelta(hours=4.5)"
   ]
  },
  {
   "cell_type": "markdown",
   "metadata": {
    "slideshow": {
     "slide_type": "subslide"
    }
   },
   "source": [
    "- define preprocessing conv part"
   ]
  },
  {
   "cell_type": "code",
   "execution_count": null,
   "metadata": {},
   "outputs": [],
   "source": [
    "    def preproc_input_conv(self, code: str, quote: dict):\n",
    "        self.input_conv[code][:-1] = self.input_conv[code][1:]\n",
    "        self.input_conv[code][-1] = self.input_fc[code][0]"
   ]
  },
  {
   "cell_type": "markdown",
   "metadata": {
    "slideshow": {
     "slide_type": "subslide"
    }
   },
   "source": [
    "- predict"
   ]
  },
  {
   "cell_type": "code",
   "execution_count": null,
   "metadata": {},
   "outputs": [],
   "source": [
    "    def predict(self, code: str):\n",
    "        pred = self.model.predict([self.input_fc[code][np.newaxis, ],\n",
    "         self.input_conv[code][np.newaxis, ]\n",
    "        ])\n",
    "        return pred[0][0]"
   ]
  },
  {
   "cell_type": "markdown",
   "metadata": {
    "slideshow": {
     "slide_type": "subslide"
    }
   },
   "source": [
    "#### define the action"
   ]
  },
  {
   "cell_type": "markdown",
   "metadata": {},
   "source": [
    "- go long"
   ]
  },
  {
   "cell_type": "code",
   "execution_count": null,
   "metadata": {},
   "outputs": [],
   "source": [
    "    def place_long_order(self, code):\n",
    "        contract = api.Contracts.Stocks[code]\n",
    "        order = sj.Order(0, quantity=1, \n",
    "                         action=sj.constant.Action.Sell,\n",
    "                         price_type=sj.constant.TFTStockPriceType.MKT,\n",
    "                         order_type=sj.constant.TFTOrderType.ROD,\n",
    "                    )\n",
    "        api.place_order(contract, order)"
   ]
  },
  {
   "cell_type": "markdown",
   "metadata": {},
   "source": [
    "- go short"
   ]
  },
  {
   "cell_type": "code",
   "execution_count": null,
   "metadata": {},
   "outputs": [],
   "source": [
    "    def place_short_order(self, code):\n",
    "        contract = api.Contracts.Stocks[code]\n",
    "        order = sj.Order(0, quantity=1, \n",
    "                         action=sj.constant.Action.Sell,\n",
    "                         price_type=sj.constant.TFTStockPriceType.MKT,\n",
    "                         order_type=sj.constant.TFTOrderType.ROD,\n",
    "                    )\n",
    "        api.place_order(contract, order)"
   ]
  },
  {
   "cell_type": "markdown",
   "metadata": {
    "slideshow": {
     "slide_type": "subslide"
    }
   },
   "source": [
    "- predict to action"
   ]
  },
  {
   "cell_type": "code",
   "execution_count": null,
   "metadata": {},
   "outputs": [],
   "source": [
    "    def pred2action(self, code):\n",
    "        pred = self.predict(code)\n",
    "        if abs(pred) > 0.1:\n",
    "            if pred > 0:\n",
    "                self.place_long_order(code)\n",
    "            else:\n",
    "                self.place_short_order(code)"
   ]
  },
  {
   "cell_type": "code",
   "execution_count": 13,
   "metadata": {
    "slideshow": {
     "slide_type": "skip"
    }
   },
   "outputs": [],
   "source": [
    "import numpy as np\n",
    "import pandas as pd\n",
    "from collections import defaultdict\n",
    "from datetime import datetime, timedelta\n",
    "from tensorflow.keras.models import load_model"
   ]
  },
  {
   "cell_type": "code",
   "execution_count": 10,
   "metadata": {
    "slideshow": {
     "slide_type": "skip"
    }
   },
   "outputs": [],
   "source": [
    "class StreamModel:\n",
    "    def __init__(self, codes: list, mode_path: str, threshold: float, api: sj.Shioaji):\n",
    "        self.raw_ticks_dict = defaultdict(list)\n",
    "        self.open_records = {}\n",
    "        self.ask_vol_records = {code: 0 for code in codes}\n",
    "        self.bid_vol_records = {code: 0 for code in codes}\n",
    "        self.input_conv = {code: np.zeros((128, 1, 1)) for code in codes}\n",
    "        self.input_fc = {code: np.zeros((3,)) for code in codes}\n",
    "        self.model = load_model(mode_path)\n",
    "        self.threshold = threshold\n",
    "        self.api = api\n",
    "\n",
    "    def on_quote_handler(self, topic: str, quote: dict):\n",
    "        if not quote.get(\"SimTrade\"):\n",
    "            symbol_code = topic.split('/')[-1]\n",
    "            if symbol_code not in self.open_records:\n",
    "                self.open_records[symbol_code] = quote[\"Close\"][0]\n",
    "            self.raw_ticks_dict[symbol_code].append({k: v[0] if isinstance(v, list) else v \n",
    "                                                     for k, v in quote.items()})\n",
    "            self.preproc_input_fc(symbol_code, quote)\n",
    "            self.preproc_input_conv(symbol_code, quote)\n",
    "            self.pred2action(symbol_code)\n",
    "\n",
    "    def preproc_input_fc(self, code: str, quote: dict):\n",
    "        if quote.get(\"TickType\") == 1:\n",
    "            self.ask_vol_records += quote.get(\"Volume\", 0)\n",
    "        if quote.get(\"TickType\") == 2:\n",
    "            self.bid_vol_records += quote.get(\"Volume\", 0)\n",
    "        dt = datetime.strptime(quote[\"Date\"]+quote[\"Time\"], \"%Y/%m/%d%H:%M:%S.%f\")\n",
    "        self.input_fc[code][0] = quote.get(\"Close\")[0] / self.open_records[code] - 1\n",
    "        self.input_fc[code][1] = (self.ask_vol_records[code] - self.bid_vol_records[code]) / quote.get(\"VolSum\")[0]\n",
    "        self.input_fc[code][2] = (dt.replace(hour=13, minute=30, \n",
    "                                             second=0, microsecond=0) - dt) / timedelta(hours=4.5)\n",
    "        \n",
    "    def preproc_input_conv(self, code: str, quote: dict):\n",
    "        self.input_conv[code][:-1] = self.input_conv[code][1:]\n",
    "        self.input_conv[code][-1] = self.input_fc[code][0]\n",
    "    \n",
    "    def predict(self, code: str):\n",
    "        pred = self.model.predict([self.input_fc[code][np.newaxis, ],\n",
    "         self.input_conv[code][np.newaxis, ]\n",
    "        ])\n",
    "        return pred[0][0]\n",
    "    \n",
    "    def pred2action(self, code):\n",
    "        pred = self.predict(code)\n",
    "        clear_output()\n",
    "        display(f\"Code: {code}, Pred: {pred}\")\n",
    "        if abs(pred) > self.threshold:\n",
    "            if pred > 0:\n",
    "                self.place_long_order(code)\n",
    "            else:\n",
    "                self.place_short_order(code)\n",
    "                \n",
    "    def place_short_order(self, code):\n",
    "        contract = api.Contracts.Stocks[code]\n",
    "        order = sj.Order(0, quantity=1, \n",
    "                         action=sj.constant.Action.Sell,\n",
    "                         price_type=sj.constant.TFTStockPriceType.MKT,\n",
    "                         order_type=sj.constant.TFTOrderType.ROD,\n",
    "                    )\n",
    "        print(contract, order)\n",
    "        # api.place_order(contract, order)\n",
    "    \n",
    "    def place_long_order(self, code):\n",
    "        contract = api.Contracts.Stocks[code]\n",
    "        order = sj.Order(0, quantity=1, \n",
    "                         action=sj.constant.Action.Sell,\n",
    "                         price_type=sj.constant.TFTStockPriceType.MKT,\n",
    "                         order_type=sj.constant.TFTOrderType.ROD,\n",
    "                    )\n",
    "        print(contract, order)\n",
    "        # api.place_order(contract, order)"
   ]
  },
  {
   "cell_type": "code",
   "execution_count": 11,
   "metadata": {
    "slideshow": {
     "slide_type": "skip"
    }
   },
   "outputs": [],
   "source": [
    "codes = [\"3037\", \"2330\", \"2387\", \"3661\", \"5264\", \"1762\"]\n",
    "model = StreamModel(codes, \"models/simple.h5\", 0.1, api)\n",
    "api.quote.on_quote(model.on_quote_handler)\n",
    "for code in codes:\n",
    "    api.quote.subscribe(api.Contracts.Stocks[code])"
   ]
  },
  {
   "cell_type": "markdown",
   "metadata": {
    "slideshow": {
     "slide_type": "subslide"
    }
   },
   "source": [
    "### What are the problems of above aproach?"
   ]
  },
  {
   "cell_type": "markdown",
   "metadata": {
    "slideshow": {
     "slide_type": "fragment"
    }
   },
   "source": [
    "- If the model prediction speed is not fast enough, the model is not expandable\n",
    "- If one part is busy, other parts will be stuck.\n",
    "- Every part of model is based on the on-quote handler, so if the handler is not working, other parts won't work either."
   ]
  },
  {
   "cell_type": "markdown",
   "metadata": {
    "slideshow": {
     "slide_type": "slide"
    }
   },
   "source": [
    "### Use Dolphindb as Realtime Data Pipeline and Distributing the Model"
   ]
  },
  {
   "cell_type": "markdown",
   "metadata": {},
   "source": [
    "<img src=\"images/dolphindb_arch.svg\" alt=\"model\" style=\"height: 640px;margin: 0 auto;\"/>"
   ]
  },
  {
   "cell_type": "markdown",
   "metadata": {
    "slideshow": {
     "slide_type": "subslide"
    }
   },
   "source": [
    "#### Init Stream Table of Tick Data"
   ]
  },
  {
   "cell_type": "code",
   "execution_count": null,
   "metadata": {},
   "outputs": [],
   "source": [
    "``` dos\n",
    "stockTicksSchema = streamTable(\n",
    "     array(SYMBOL, 0) as Exchange,\n",
    "     array(SYMBOL, 0) as Code,\n",
    "     array(DATE, 0) as Date,\n",
    "     array(NANOTIME, 0) as Time,\n",
    "     array(DOUBLE, 0) as Price,\n",
    "     array(LONG, 0) as Volume,\n",
    "     array(LONG, 0) as VolSum,\n",
    "     array(INT,0) as TickType\n",
    ")\n",
    "enableTableShareAndPersistence(\n",
    "    table=stockTicksSchema,\n",
    "    asynWrite=true, \n",
    "    compress=false, \n",
    "    cacheSize=2000000, \n",
    "    tableName=\"stockTicks\"\n",
    ")\n",
    "```"
   ]
  },
  {
   "cell_type": "code",
   "execution_count": 20,
   "metadata": {
    "slideshow": {
     "slide_type": "skip"
    }
   },
   "outputs": [],
   "source": [
    "sess.run(\"\"\"\n",
    "stockTicksSchema = streamTable(\n",
    "     array(SYMBOL, 0) as Exchange,\n",
    "     array(SYMBOL, 0) as Code,\n",
    "     array(DATE, 0) as Date,\n",
    "     array(NANOTIME, 0) as Time,\n",
    "     array(DOUBLE, 0) as Price,\n",
    "     array(LONG, 0) as Volume,\n",
    "     array(LONG, 0) as VolSum,\n",
    "     array(INT,0) as TickType\n",
    ")\n",
    "enableTableShareAndPersistence(\n",
    "    table=stockTicksSchema,\n",
    "    asynWrite=true, \n",
    "    compress=false, \n",
    "    cacheSize=2000000, \n",
    "    tableName=\"stockTicks\"\n",
    ")\n",
    "\"\"\")"
   ]
  },
  {
   "cell_type": "markdown",
   "metadata": {
    "slideshow": {
     "slide_type": "subslide"
    }
   },
   "source": [
    "#### Push the Stream Data into Stream Table"
   ]
  },
  {
   "cell_type": "code",
   "execution_count": 15,
   "metadata": {
    "slideshow": {
     "slide_type": "skip"
    }
   },
   "outputs": [],
   "source": [
    "import dolphindb"
   ]
  },
  {
   "cell_type": "code",
   "execution_count": 16,
   "metadata": {},
   "outputs": [],
   "source": [
    "class Quote2Dolphindb:\n",
    "    def __init__(self, ddb: dolphindb.session):\n",
    "        self.ddb = ddb\n",
    "        self.DOS_STREAM_APPEND = \"\"\"\n",
    "        stockTicks.append!(select Exchange, Code, \n",
    "                                  temporalParse(Date, \"yyyy/MM/dd\") as Date,\n",
    "                                  nanotime(Time) as Time,\n",
    "                                  Close as Price, Volume, \n",
    "                                  VolSum, TickType from df_temp)\n",
    "        \"\"\"\n",
    "    def on_quote_handler(self, topic: str, quote: dict):\n",
    "        topic_l = topic.split(\"/\")\n",
    "        quote[\"Exchange\"] = topic_l[-2]\n",
    "        quote[\"Code\"] = topic_l[-1]\n",
    "        self.ddb.upload({\"df_temp\": pd.DataFrame.from_dict(quote)})\n",
    "        self.ddb.run(self.DOS_STREAM_APPEND)"
   ]
  },
  {
   "cell_type": "code",
   "execution_count": null,
   "metadata": {
    "slideshow": {
     "slide_type": "skip"
    }
   },
   "outputs": [],
   "source": [
    "sess = dolphindb.session()\n",
    "sess.connect(\"localhost\", 8848, \"admin\", \"123456\")"
   ]
  },
  {
   "cell_type": "code",
   "execution_count": 19,
   "metadata": {
    "slideshow": {
     "slide_type": "skip"
    }
   },
   "outputs": [],
   "source": [
    "sess.upload({\"codes\": codes})"
   ]
  },
  {
   "cell_type": "code",
   "execution_count": 17,
   "metadata": {},
   "outputs": [
    {
     "data": {
      "text/plain": [
       "<bound method Quote2Dolphindb.on_quote_handler of <__main__.Quote2Dolphindb object at 0x7f1eba6c3b38>>"
      ]
     },
     "execution_count": 17,
     "metadata": {},
     "output_type": "execute_result"
    }
   ],
   "source": [
    "quote2ddb = Quote2Dolphindb(sess)\n",
    "api.quote.on_quote(quote2ddb.on_quote_handler)"
   ]
  },
  {
   "cell_type": "markdown",
   "metadata": {
    "slideshow": {
     "slide_type": "subslide"
    }
   },
   "source": [
    "### Cached data of Feature"
   ]
  },
  {
   "cell_type": "markdown",
   "metadata": {},
   "source": [
    "#### Init Key Table of Records"
   ]
  },
  {
   "cell_type": "code",
   "execution_count": null,
   "metadata": {},
   "outputs": [],
   "source": [
    "``` dos\n",
    "stockRecordsSchema = keyedTable(`Code,\n",
    "     array(SYMBOL, 0) as Exchange,\n",
    "     array(SYMBOL, 0) as Code,\n",
    "     array(DATE, 0) as Date,\n",
    "     array(NANOTIME, 0) as Time,\n",
    "     array(DOUBLE, 0) as Open,\n",
    "     array(DOUBLE, 0) as OpenChgPct,\n",
    "     array(LONG, 0) as AskVolSum,\n",
    "     array(LONG, 0) as BidVolSum,\n",
    "     array(LONG, 0) as VolSum\n",
    ")\n",
    "share stockRecordsSchema as stockRecords\n",
    "```"
   ]
  },
  {
   "cell_type": "code",
   "execution_count": 21,
   "metadata": {
    "slideshow": {
     "slide_type": "skip"
    }
   },
   "outputs": [],
   "source": [
    "sess.run(\"\"\"\n",
    "stockRecordsSchema = keyedTable(`Code,\n",
    "     array(SYMBOL, 0) as Exchange,\n",
    "     array(SYMBOL, 0) as Code,\n",
    "     array(DATE, 0) as Date,\n",
    "     array(NANOTIME, 0) as Time,\n",
    "     array(DOUBLE, 0) as Open,\n",
    "     array(DOUBLE, 0) as OpenChgPct,\n",
    "     array(LONG, 0) as AskVolSum,\n",
    "     array(LONG, 0) as BidVolSum,\n",
    "     array(LONG, 0) as VolSum\n",
    ")\n",
    "share stockRecordsSchema as stockRecords\n",
    "\"\"\")"
   ]
  },
  {
   "cell_type": "markdown",
   "metadata": {
    "slideshow": {
     "slide_type": "subslide"
    }
   },
   "source": [
    "#### Fill in the initial value of Records"
   ]
  },
  {
   "cell_type": "code",
   "execution_count": null,
   "metadata": {},
   "outputs": [],
   "source": [
    "``` dos\n",
    "stockRecords.append!(select \"TSE\" as Exchange, codes as Code, \n",
    "                           today() as Date, \n",
    "                           nanotime(now(true)) as Time,\n",
    "                           double(0) * NULL as Open, \n",
    "                           double(0) * NULL as OpenChgPct,\n",
    "                           0 as AskVolSum, 0 as BidVolSum,\n",
    "                           0 as VolSum from stockRecords)\n",
    "```"
   ]
  },
  {
   "cell_type": "code",
   "execution_count": 22,
   "metadata": {
    "slideshow": {
     "slide_type": "skip"
    }
   },
   "outputs": [],
   "source": [
    "sess.run(\"\"\"\n",
    "stockRecords.append!(select \"TSE\" as Exchange, codes as Code, \n",
    "                           today() as Date, \n",
    "                           nanotime(now(true)) as Time,\n",
    "                           double(0) * NULL as Open, \n",
    "                           double(0) * NULL as OpenChgPct,\n",
    "                           0 as AskVolSum, 0 as BidVolSum,\n",
    "                           0 as VolSum from stockRecords)\n",
    "\"\"\")"
   ]
  },
  {
   "cell_type": "code",
   "execution_count": 23,
   "metadata": {},
   "outputs": [],
   "source": [
    "ss = api.snapshots([api.Contracts.Stocks[code] \n",
    "                    for code in codes])"
   ]
  },
  {
   "cell_type": "code",
   "execution_count": 24,
   "metadata": {},
   "outputs": [],
   "source": [
    "sess.upload({\"open_arr\": [s.open for s in ss]})\n",
    "sess.run(\"stockRecords.update!(`Open, open_arr)\")"
   ]
  },
  {
   "cell_type": "markdown",
   "metadata": {
    "slideshow": {
     "slide_type": "subslide"
    }
   },
   "source": [
    "#### Init Key Table of Time Series Cache"
   ]
  },
  {
   "cell_type": "code",
   "execution_count": null,
   "metadata": {},
   "outputs": [],
   "source": [
    "``` dos\n",
    "stockTsSchema = keyedTable(`Code`Idx,\n",
    "     array(SYMBOL, 0) as Code,\n",
    "     array(INT, 0) as Idx,\n",
    "     array(DATE, 0) as Date,\n",
    "     array(NANOTIME, 0) as Time,\n",
    "     array(DOUBLE, 0) as Price\n",
    ")\n",
    "share stockTsSchema as stockTs\n",
    "```"
   ]
  },
  {
   "cell_type": "code",
   "execution_count": 25,
   "metadata": {
    "slideshow": {
     "slide_type": "skip"
    }
   },
   "outputs": [],
   "source": [
    "sess.run(\"\"\"\n",
    "stockTsSchema = keyedTable(`Code`Idx,\n",
    "     array(SYMBOL, 0) as Code,\n",
    "     array(INT, 0) as Idx,\n",
    "     array(DATE, 0) as Date,\n",
    "     array(NANOTIME, 0) as Time,\n",
    "     array(DOUBLE, 0) as Price\n",
    ")\n",
    "share stockTsSchema as stockTs\n",
    "\"\"\")"
   ]
  },
  {
   "cell_type": "markdown",
   "metadata": {
    "slideshow": {
     "slide_type": "subslide"
    }
   },
   "source": [
    "#### Fill in the initial value of Time Series Cache"
   ]
  },
  {
   "cell_type": "code",
   "execution_count": null,
   "metadata": {},
   "outputs": [],
   "source": [
    "``` dos\n",
    "rows = 128\n",
    "tmp = cj(table(codes as Code) ,\n",
    "         table(take(1..128, rows) as Idx, \n",
    "               take(today(),rows) as Date, \n",
    "               take(nanotime(now(true)), rows) as Time, \n",
    "               take(double(0), rows) as Price))\n",
    "stockTs.append!(tmp)\n",
    "```"
   ]
  },
  {
   "cell_type": "code",
   "execution_count": 27,
   "metadata": {
    "slideshow": {
     "slide_type": "skip"
    }
   },
   "outputs": [],
   "source": [
    "sess.run(\"\"\"\n",
    "rows = 128\n",
    "tmp = cj(table(codes as Code) ,\n",
    "         table(take(1..128, rows) as Idx, \n",
    "               take(today(),rows) as Date, \n",
    "               take(nanotime(now(true)), rows) as Time, \n",
    "               take(double(0), rows) as Price))\n",
    "stockTs.append!(tmp)\n",
    "\"\"\")"
   ]
  },
  {
   "cell_type": "markdown",
   "metadata": {
    "slideshow": {
     "slide_type": "subslide"
    }
   },
   "source": [
    "#### Init Stream Table of Featurized Data"
   ]
  },
  {
   "cell_type": "code",
   "execution_count": 30,
   "metadata": {},
   "outputs": [],
   "source": [
    "def ts_schema(feature, n):\n",
    "    return f\"array(DOUBLE, 0) as {feature}_last_{n}\"\n",
    "\n",
    "ts_schemas = [ts_schema(\"OpenChgPct\", i) for i in range(1, 129)]\n",
    "sess.run(f\"\"\"\n",
    "stockStreamFeaturesSchema = streamTable(\n",
    "     array(SYMBOL, 0) as Exchange,\n",
    "     array(SYMBOL, 0) as Code,\n",
    "     array(DATE, 0) as Date,\n",
    "     array(NANOTIME, 0) as Time,\n",
    "     array(DOUBLE, 0) as OpenChgPct,\n",
    "     array(DOUBLE, 0) as AskBidVolDiffRatio,\n",
    "     array(DOUBLE, 0) as RemainingTimeRatio,\n",
    "     {(\", \").join(ts_schemas)}\n",
    ")\n",
    "share stockStreamFeaturesSchema as stockStreamFeatures\n",
    "setStreamTableFilterColumn(stockStreamFeatures, `Code)\n",
    "\"\"\")"
   ]
  },
  {
   "cell_type": "markdown",
   "metadata": {
    "slideshow": {
     "slide_type": "subslide"
    }
   },
   "source": [
    "### Subscribe The Tick Data's Stream Table to Featurized Data's Stream Table"
   ]
  },
  {
   "cell_type": "markdown",
   "metadata": {},
   "source": [
    "#### Define the tick2records process"
   ]
  },
  {
   "cell_type": "code",
   "execution_count": null,
   "metadata": {},
   "outputs": [],
   "source": [
    "``` dos\n",
    "def tick2records(msg){\n",
    "    record = select * from stockRecords where Code == msg[\"Code\"][0]\n",
    "    record[\"Exchange\"] = msg[\"Exchange\"]\n",
    "    record[\"Date\"] = msg[\"Date\"]\n",
    "    record[\"Time\"] = msg[\"Time\"]\n",
    "    record[\"VolSum\"] = msg[\"VolSum\"]\n",
    "    if (record[\"Open\"][0] == NULL){\n",
    "        record[\"Open\"] = msg[\"Price\"]\n",
    "    }\n",
    "    record[\"OpenChgPct\"] = ratio(msg[\"Price\"], record[\"Open\"]) - 1\n",
    "    if(msg[\"TickType\"][0] == 1){\n",
    "        askvolsum = record[\"AskVolSum\"][0]\n",
    "        record[\"AskVolSum\"] = iif(askvolsum!=NULL, askvolsum + msg[\"Volume\"][0], msg[\"Volume\"][0])        \n",
    "    } else if (msg[\"TickType\"][0] == 2){\n",
    "        bidvolsum = record[\"BidVolSum\"][0]\n",
    "        record[\"BidVolSum\"] = iif(bidvolsum!=NULL, bidvolsum + msg[\"Volume\"][0], msg[\"Volume\"][0])\n",
    "    }\n",
    "    stockRecords.append!(record)\n",
    "    return record\n",
    "}\n",
    "```"
   ]
  },
  {
   "cell_type": "code",
   "execution_count": 31,
   "metadata": {
    "slideshow": {
     "slide_type": "skip"
    }
   },
   "outputs": [],
   "source": [
    "sess.run(\"\"\"\n",
    "def tick2records(msg){\n",
    "    record = select * from stockRecords where Code == msg[\"Code\"][0]\n",
    "    record[\"Exchange\"] = msg[\"Exchange\"]\n",
    "    record[\"Date\"] = msg[\"Date\"]\n",
    "    record[\"Time\"] = msg[\"Time\"]\n",
    "    record[\"VolSum\"] = msg[\"VolSum\"]\n",
    "    if (record[\"Open\"][0] == NULL){\n",
    "        record[\"Open\"] = msg[\"Price\"]\n",
    "    }\n",
    "    record[\"OpenChgPct\"] = ratio(msg[\"Price\"], record[\"Open\"]) - 1\n",
    "    if(msg[\"TickType\"][0] == 1){\n",
    "        askvolsum = record[\"AskVolSum\"][0]\n",
    "        record[\"AskVolSum\"] = iif(askvolsum!=NULL, askvolsum + msg[\"Volume\"][0], msg[\"Volume\"][0])        \n",
    "    } else if (msg[\"TickType\"][0] == 2){\n",
    "        bidvolsum = record[\"BidVolSum\"][0]\n",
    "        record[\"BidVolSum\"] = iif(bidvolsum!=NULL, bidvolsum + msg[\"Volume\"][0], msg[\"Volume\"][0])\n",
    "    }\n",
    "    stockRecords.append!(record)\n",
    "    return record\n",
    "}\n",
    "\"\"\")"
   ]
  },
  {
   "cell_type": "markdown",
   "metadata": {
    "slideshow": {
     "slide_type": "subslide"
    }
   },
   "source": [
    "#### Define the tick2ts process"
   ]
  },
  {
   "cell_type": "code",
   "execution_count": null,
   "metadata": {},
   "outputs": [],
   "source": [
    "``` dos\n",
    "def tick2ts(msg, record){\n",
    "    ts = select * from stockTs where Code==msg[\"Code\"][0] order by Idx\n",
    "    ts[\"Price\"] = move(ts[\"Price\"], -1)\n",
    "    ts[\"Price\"] = ts[\"Price\"].nullFill(msg[\"Price\"][0])\n",
    "    stockTs.append!(ts)\n",
    "    return ts\n",
    "}\n",
    "```"
   ]
  },
  {
   "cell_type": "code",
   "execution_count": 32,
   "metadata": {
    "slideshow": {
     "slide_type": "skip"
    }
   },
   "outputs": [],
   "source": [
    "sess.run(\"\"\"\n",
    "def tick2ts(msg, record){\n",
    "    ts = select * from stockTs where Code==msg[\"Code\"][0] order by Idx\n",
    "    ts[\"Price\"] = move(ts[\"Price\"], -1)\n",
    "    ts[\"Price\"] = ts[\"Price\"].nullFill(msg[\"Price\"][0])\n",
    "    stockTs.append!(ts)\n",
    "    return ts\n",
    "}\n",
    "\"\"\")"
   ]
  },
  {
   "cell_type": "markdown",
   "metadata": {
    "slideshow": {
     "slide_type": "subslide"
    }
   },
   "source": [
    "#### Combine above processes as tick2features's flow"
   ]
  },
  {
   "cell_type": "code",
   "execution_count": null,
   "metadata": {},
   "outputs": [],
   "source": [
    "``` dos\n",
    "def ticks2features(msg){\n",
    "    record = tick2records(msg)\n",
    "    ts = tick2ts(msg, record)\n",
    "    if ((exec count(*) from ts where Price==0)==0){\n",
    "        fc_input = select Exchange, Code, Date, Time, OpenChgPct, \n",
    "                   ratio(AskVolSum - BidVolSum, VolSum) as AskBidVolDiffRatio,\n",
    "                   ratio(13:30:00 - second(Time), 60 * 60 * 4.5) as RemainingTimeRatio from record\n",
    "        conv_input = select ratio(Price, record[\"Open\"][0]) - 1 from ts pivot by Code, Idx\n",
    "        stockStreamFeatures.append!(lj(fc_input, conv_input, `Code))\n",
    "    }\n",
    "}\n",
    "```"
   ]
  },
  {
   "cell_type": "code",
   "execution_count": 35,
   "metadata": {
    "slideshow": {
     "slide_type": "skip"
    }
   },
   "outputs": [],
   "source": [
    "sess.run(\"\"\"\n",
    "def ticks2features(msg){\n",
    "    record = tick2records(msg)\n",
    "    ts = tick2ts(msg, record)\n",
    "    if ((exec count(*) from ts where Price==0)==0){\n",
    "        fc_input = select Exchange, Code, Date, Time, OpenChgPct, \n",
    "                   ratio(AskVolSum - BidVolSum, VolSum) as AskBidVolDiffRatio,\n",
    "                   ratio(13:30:00 - second(Time), 60 * 60 * 4.5) as RemainingTimeRatio from record\n",
    "        conv_input = select ratio(Price, record[\"Open\"][0]) - 1 from ts pivot by Code, Idx\n",
    "        stockStreamFeatures.append!(lj(fc_input, conv_input, `Code))\n",
    "    }\n",
    "}\n",
    "\"\"\")"
   ]
  },
  {
   "cell_type": "markdown",
   "metadata": {},
   "source": [
    "### Subscribe the Stream Table of Tick Data with tick2features "
   ]
  },
  {
   "cell_type": "code",
   "execution_count": null,
   "metadata": {},
   "outputs": [],
   "source": [
    "``` dos\n",
    "subscribeTable(, \"stockTicks\", \"ticks2features\", -1, ticks2features, true)\n",
    "```"
   ]
  },
  {
   "cell_type": "code",
   "execution_count": 36,
   "metadata": {
    "slideshow": {
     "slide_type": "skip"
    }
   },
   "outputs": [
    {
     "data": {
      "text/plain": [
       "'localhost:8848:local8848/stockTicks/ticks2features'"
      ]
     },
     "execution_count": 36,
     "metadata": {},
     "output_type": "execute_result"
    }
   ],
   "source": [
    "sess.run(\"\"\"\n",
    "subscribeTable(, \"stockTicks\", \"ticks2features\", -1, ticks2features, true)\n",
    "\"\"\")"
   ]
  },
  {
   "cell_type": "code",
   "execution_count": 37,
   "metadata": {
    "slideshow": {
     "slide_type": "skip"
    }
   },
   "outputs": [
    {
     "data": {
      "text/html": [
       "<div>\n",
       "<style scoped>\n",
       "    .dataframe tbody tr th:only-of-type {\n",
       "        vertical-align: middle;\n",
       "    }\n",
       "\n",
       "    .dataframe tbody tr th {\n",
       "        vertical-align: top;\n",
       "    }\n",
       "\n",
       "    .dataframe thead th {\n",
       "        text-align: right;\n",
       "    }\n",
       "</style>\n",
       "<table border=\"1\" class=\"dataframe\">\n",
       "  <thead>\n",
       "    <tr style=\"text-align: right;\">\n",
       "      <th></th>\n",
       "      <th>workerId</th>\n",
       "      <th>topic</th>\n",
       "      <th>queueDepthLimit</th>\n",
       "      <th>queueDepth</th>\n",
       "      <th>processedMsgCount</th>\n",
       "      <th>lastMsgId</th>\n",
       "      <th>failedMsgCount</th>\n",
       "      <th>lastFailedMsgId</th>\n",
       "      <th>lastFailedTimestamp</th>\n",
       "      <th>lastErrMsg</th>\n",
       "    </tr>\n",
       "  </thead>\n",
       "  <tbody>\n",
       "  </tbody>\n",
       "</table>\n",
       "</div>"
      ],
      "text/plain": [
       "Empty DataFrame\n",
       "Columns: [workerId, topic, queueDepthLimit, queueDepth, processedMsgCount, lastMsgId, failedMsgCount, lastFailedMsgId, lastFailedTimestamp, lastErrMsg]\n",
       "Index: []"
      ]
     },
     "execution_count": 37,
     "metadata": {},
     "output_type": "execute_result"
    }
   ],
   "source": [
    "sess.run(\"\"\"\n",
    "getStreamingStat().subWorkers\n",
    "\"\"\")"
   ]
  },
  {
   "cell_type": "markdown",
   "metadata": {
    "slideshow": {
     "slide_type": "subslide"
    }
   },
   "source": [
    "#### Enable Python Client to Subscibe the Stream Table"
   ]
  },
  {
   "cell_type": "code",
   "execution_count": 33,
   "metadata": {},
   "outputs": [],
   "source": [
    "sess.enableStreaming(45678)"
   ]
  },
  {
   "cell_type": "markdown",
   "metadata": {
    "slideshow": {
     "slide_type": "subslide"
    }
   },
   "source": [
    "### Distributed Realtime Model"
   ]
  },
  {
   "cell_type": "markdown",
   "metadata": {
    "slideshow": {
     "slide_type": "fragment"
    }
   },
   "source": [
    "- Use Python Dolphindb Client to Subscribe the Preprocessed Data\n",
    "- Filter by Symbol Code of each worker to predict\n",
    "- Push the prediction result back to Dolphindb Stream Table"
   ]
  },
  {
   "cell_type": "code",
   "execution_count": 38,
   "metadata": {
    "slideshow": {
     "slide_type": "subslide"
    }
   },
   "outputs": [],
   "source": [
    "class RealTimeModel:\n",
    "    def __init__(self, model_path: str, ddb: dolphindb.session):\n",
    "        self.model = load_model(model_path)\n",
    "        self.ddb = ddb\n",
    "    \n",
    "    def on_featurize_data(self, data: list):\n",
    "        info = data[:4]\n",
    "        fc_input = np.array(data[4:7])[np.newaxis, ]\n",
    "        conv_input = np.array(data[7:])[np.newaxis, :, np.newaxis, np.newaxis]\n",
    "        pred = self.model.predict([fc_input, conv_input])\n",
    "        self.pred2ddb(info, pred[0][0])\n",
    "        # print(code, pred)\n",
    "        \n",
    "    def pred2ddb(self, info: list, pred: float):\n",
    "        self.ddb.upload({\"pred\": [*info, pred]})\n",
    "        self.ddb.run(\"insert into stockPred pred\")"
   ]
  },
  {
   "cell_type": "markdown",
   "metadata": {
    "slideshow": {
     "slide_type": "subslide"
    }
   },
   "source": [
    "#### Init the Stream Table to push back the prediction result"
   ]
  },
  {
   "cell_type": "code",
   "execution_count": null,
   "metadata": {},
   "outputs": [],
   "source": [
    "``` dos\n",
    "stockPredSchema = streamTable(\n",
    "     array(SYMBOL, 0) as Exchange,\n",
    "     array(SYMBOL, 0) as Code,\n",
    "     array(DATE, 0) as Date,\n",
    "     array(NANOTIME, 0) as Time,\n",
    "     array(DOUBLE, 0) as Pred\n",
    ")\n",
    "enableTableShareAndPersistence(\n",
    "    table=stockPredSchema,\n",
    "    asynWrite=true, \n",
    "    compress=false, \n",
    "    cacheSize=2000000, \n",
    "    tableName=\"stockPred\"\n",
    ")\n",
    "setStreamTableFilterColumn(stockPred, `Pred)\n",
    "```"
   ]
  },
  {
   "cell_type": "code",
   "execution_count": 40,
   "metadata": {
    "slideshow": {
     "slide_type": "skip"
    }
   },
   "outputs": [],
   "source": [
    "sess.run(f\"\"\"\n",
    "stockPredSchema = streamTable(\n",
    "     array(SYMBOL, 0) as Exchange,\n",
    "     array(SYMBOL, 0) as Code,\n",
    "     array(DATE, 0) as Date,\n",
    "     array(NANOTIME, 0) as Time,\n",
    "     array(DOUBLE, 0) as Pred\n",
    ")\n",
    "enableTableShareAndPersistence(\n",
    "    table=stockPredSchema,\n",
    "    asynWrite=true, \n",
    "    compress=false, \n",
    "    cacheSize=2000000, \n",
    "    tableName=\"stockPred\"\n",
    ")\n",
    "setStreamTableFilterColumn(stockPred, `Pred)\n",
    "\"\"\")"
   ]
  },
  {
   "cell_type": "markdown",
   "metadata": {
    "slideshow": {
     "slide_type": "subslide"
    }
   },
   "source": [
    "#### Subscribe Featurized Data"
   ]
  },
  {
   "cell_type": "code",
   "execution_count": 41,
   "metadata": {},
   "outputs": [],
   "source": [
    "realtime_model = RealTimeModel(\"models/simple.h5\", sess)\n",
    "sess.subscribe(\"127.0.0.1\", 8848, realtime_model.on_featurize_data, \n",
    "               \"stockStreamFeatures\", \"features2model\", \n",
    "               filter=np.array(codes[:]))"
   ]
  },
  {
   "cell_type": "code",
   "execution_count": 42,
   "metadata": {
    "slideshow": {
     "slide_type": "skip"
    }
   },
   "outputs": [
    {
     "data": {
      "text/html": [
       "<div>\n",
       "<style scoped>\n",
       "    .dataframe tbody tr th:only-of-type {\n",
       "        vertical-align: middle;\n",
       "    }\n",
       "\n",
       "    .dataframe tbody tr th {\n",
       "        vertical-align: top;\n",
       "    }\n",
       "\n",
       "    .dataframe thead th {\n",
       "        text-align: right;\n",
       "    }\n",
       "</style>\n",
       "<table border=\"1\" class=\"dataframe\">\n",
       "  <thead>\n",
       "    <tr style=\"text-align: right;\">\n",
       "      <th></th>\n",
       "      <th>workerId</th>\n",
       "      <th>topic</th>\n",
       "      <th>queueDepthLimit</th>\n",
       "      <th>queueDepth</th>\n",
       "      <th>processedMsgCount</th>\n",
       "      <th>lastMsgId</th>\n",
       "      <th>failedMsgCount</th>\n",
       "      <th>lastFailedMsgId</th>\n",
       "      <th>lastFailedTimestamp</th>\n",
       "      <th>lastErrMsg</th>\n",
       "    </tr>\n",
       "  </thead>\n",
       "  <tbody>\n",
       "  </tbody>\n",
       "</table>\n",
       "</div>"
      ],
      "text/plain": [
       "Empty DataFrame\n",
       "Columns: [workerId, topic, queueDepthLimit, queueDepth, processedMsgCount, lastMsgId, failedMsgCount, lastFailedMsgId, lastFailedTimestamp, lastErrMsg]\n",
       "Index: []"
      ]
     },
     "execution_count": 42,
     "metadata": {},
     "output_type": "execute_result"
    }
   ],
   "source": [
    "sess.run(\"\"\"\n",
    "getStreamingStat().subWorkers\n",
    "\"\"\")"
   ]
  },
  {
   "cell_type": "markdown",
   "metadata": {
    "slideshow": {
     "slide_type": "subslide"
    }
   },
   "source": [
    "### Init the Stream Table of Trading"
   ]
  },
  {
   "cell_type": "markdown",
   "metadata": {},
   "source": [
    "- rule based part\n",
    "- manage positions\n",
    "- record transaction"
   ]
  },
  {
   "cell_type": "code",
   "execution_count": null,
   "metadata": {},
   "outputs": [],
   "source": [
    "``` dos\n",
    "stockTradeSchema = streamTable(\n",
    "     array(SYMBOL, 0) as Exchange,\n",
    "     array(SYMBOL, 0) as Code,\n",
    "     array(DATE, 0) as Date,\n",
    "     array(NANOTIME, 0) as Time,\n",
    "     array(DOUBLE, 0) as Pred,\n",
    "     array(SYMBOL, 0) as Action,\n",
    "     array(BOOL, 0) as EntryCover,\n",
    "     array(DOUBLE, 0) as Price,\n",
    "     array(LONG, 0) as Quantity\n",
    ")\n",
    "enableTableShareAndPersistence(\n",
    "    table=stockTradeSchema,\n",
    "    asynWrite=true, \n",
    "    compress=false, \n",
    "    cacheSize=2000000, \n",
    "    tableName=\"stockTrade\"\n",
    ")\n",
    "```"
   ]
  },
  {
   "cell_type": "code",
   "execution_count": 43,
   "metadata": {
    "slideshow": {
     "slide_type": "skip"
    }
   },
   "outputs": [],
   "source": [
    "sess.run(f\"\"\"\n",
    "stockTradeSchema = streamTable(\n",
    "     array(SYMBOL, 0) as Exchange,\n",
    "     array(SYMBOL, 0) as Code,\n",
    "     array(DATE, 0) as Date,\n",
    "     array(NANOTIME, 0) as Time,\n",
    "     array(DOUBLE, 0) as Pred,\n",
    "     array(SYMBOL, 0) as Action,\n",
    "     array(BOOL, 0) as EntryCover,\n",
    "     array(DOUBLE, 0) as Price,\n",
    "     array(LONG, 0) as Quantity\n",
    ")\n",
    "enableTableShareAndPersistence(\n",
    "    table=stockTradeSchema,\n",
    "    asynWrite=true, \n",
    "    compress=false, \n",
    "    cacheSize=2000000, \n",
    "    tableName=\"stockTrade\"\n",
    ")\n",
    "\"\"\")"
   ]
  },
  {
   "cell_type": "markdown",
   "metadata": {
    "slideshow": {
     "slide_type": "subslide"
    }
   },
   "source": [
    "#### define the flow of prediction to action"
   ]
  },
  {
   "cell_type": "code",
   "execution_count": null,
   "metadata": {},
   "outputs": [],
   "source": [
    "``` dos\n",
    "def pred2trade(threshold, max_position, mutable msg){\n",
    "    pred = msg[\"Pred\"][0]\n",
    "    if (abs(pred) > threshold){\n",
    "        trades = select * from stockTrade where Code==msg[\"Code\"][0], \n",
    "                                                Date==msg[\"Date\"][0]\n",
    "        if (sum(trades[\"Quantity\"] * trades[\"EntryCover\"]) < max_position){\n",
    "            if (pred > 0){\n",
    "                msg[\"Action\"] = \"Buy\"\n",
    "            } else {\n",
    "                msg[\"Action\"] = \"Sell\"\n",
    "            }\n",
    "            msg[\"EntryCover\"] = true\n",
    "            msg[\"Price\"] = 0\n",
    "            msg[\"Quantity\"] = 1\n",
    "            stockTrade.append!(msg)\n",
    "        }\n",
    "    }\n",
    "}\n",
    "```"
   ]
  },
  {
   "cell_type": "code",
   "execution_count": 45,
   "metadata": {
    "slideshow": {
     "slide_type": "skip"
    }
   },
   "outputs": [],
   "source": [
    "sess.run(\"\"\"\n",
    "def pred2trade(threshold, max_position, mutable msg){\n",
    "    pred = msg[\"Pred\"][0]\n",
    "    if (abs(pred) > threshold){\n",
    "        trades = select * from stockTrade where Code==msg[\"Code\"][0], \n",
    "                                                Date==msg[\"Date\"][0]\n",
    "        if (sum(trades[\"Quantity\"] * trades[\"EntryCover\"]) < max_position){\n",
    "            if (pred > 0){\n",
    "                msg[\"Action\"] = \"Buy\"\n",
    "            } else {\n",
    "                msg[\"Action\"] = \"Sell\"\n",
    "            }\n",
    "            msg[\"EntryCover\"] = true\n",
    "            msg[\"Price\"] = 0\n",
    "            msg[\"Quantity\"] = 1\n",
    "            stockTrade.append!(msg)\n",
    "        }\n",
    "    }\n",
    "}\n",
    "\"\"\")"
   ]
  },
  {
   "cell_type": "markdown",
   "metadata": {
    "slideshow": {
     "slide_type": "subslide"
    }
   },
   "source": [
    "#### subscribe prediction table with pred2trade"
   ]
  },
  {
   "cell_type": "code",
   "execution_count": null,
   "metadata": {},
   "outputs": [],
   "source": [
    "``` dos\n",
    "subscribeTable(, \"stockPred\", \"pred2trade\", -1, pred2trade{0.1, 5}, true)\n",
    "```"
   ]
  },
  {
   "cell_type": "code",
   "execution_count": 46,
   "metadata": {
    "slideshow": {
     "slide_type": "skip"
    }
   },
   "outputs": [],
   "source": [
    "sess.run(\"\"\"\n",
    "subscribeTable(, \"stockPred\", \"pred2trade\", -1, pred2trade{0.1, 5}, true)\n",
    "\"\"\")"
   ]
  },
  {
   "cell_type": "markdown",
   "metadata": {
    "slideshow": {
     "slide_type": "subslide"
    }
   },
   "source": [
    "### Subscribe the Stream Table of Trading to Order Agent"
   ]
  },
  {
   "cell_type": "code",
   "execution_count": 47,
   "metadata": {},
   "outputs": [],
   "source": [
    "class OrderAgent:\n",
    "    def __init__(self, api: sj.Shioaji):\n",
    "        self.api = api\n",
    "    \n",
    "    def on_action(self, data):\n",
    "        exchange, code, d, t, pred, action, entry, price, quantity = data\n",
    "        contract = self.api.Contracts.Stocks[code]\n",
    "        order = sj.Order(price, quantity, \n",
    "                         action=sj.constant.Action(action),\n",
    "                         price_type=sj.constant.TFTStockPriceType.MKT,\n",
    "                         order_type=sj.constant.TFTOrderType.ROD,\n",
    "                    )\n",
    "        api.place_order(contract, order)"
   ]
  },
  {
   "cell_type": "code",
   "execution_count": 48,
   "metadata": {},
   "outputs": [],
   "source": [
    "order_agent = OrderAgent(api)\n",
    "sess.subscribe(\"127.0.0.1\", 8848, order_agent.on_action, \n",
    "               \"stockTrade\", \"order_agent\")"
   ]
  },
  {
   "cell_type": "markdown",
   "metadata": {
    "slideshow": {
     "slide_type": "subslide"
    }
   },
   "source": [
    "### Easy to backtest with dolphindb"
   ]
  },
  {
   "cell_type": "markdown",
   "metadata": {
    "slideshow": {
     "slide_type": "fragment"
    }
   },
   "source": [
    "- context by\n",
    "- asof join \n",
    "- group by"
   ]
  },
  {
   "cell_type": "markdown",
   "metadata": {
    "slideshow": {
     "slide_type": "subslide"
    }
   },
   "source": [
    "#### context by: its behavior is similar to pandas, which query dataFrame by code and date to do calculation."
   ]
  },
  {
   "cell_type": "code",
   "execution_count": null,
   "metadata": {
    "slideshow": {
     "slide_type": "fragment"
    }
   },
   "outputs": [],
   "source": [
    "``` dos\n",
    "tempReturn = select *, ratio(last(Price), Price) - 1 as ReturnRatio\n",
    "                   from stockTicks context by Code, Date csort Time\n",
    "```"
   ]
  },
  {
   "cell_type": "code",
   "execution_count": 50,
   "metadata": {
    "slideshow": {
     "slide_type": "skip"
    }
   },
   "outputs": [],
   "source": [
    "sess.run(\"\"\"\n",
    "tempReturn = select *, ratio(last(Price), Price) - 1 as ReturnRatio\n",
    "                   from stockTicks context by Code, Date csort Time\n",
    "\"\"\")"
   ]
  },
  {
   "cell_type": "markdown",
   "metadata": {
    "slideshow": {
     "slide_type": "subslide"
    }
   },
   "source": [
    "#### asof join: to join on the time field to retrieve the latest information"
   ]
  },
  {
   "cell_type": "code",
   "execution_count": null,
   "metadata": {
    "slideshow": {
     "slide_type": "fragment"
    }
   },
   "outputs": [],
   "source": [
    "``` dos\n",
    "fee = 0.0003\n",
    "returnTick = select Code, Date, Time, \n",
    "                   Pred, Action, EntryCover, \n",
    "                   tempReturn.Price as Price, Quantity, \n",
    "                   ((((Action==\"Buy\") * EntryCover -\n",
    "                    (Action==\"Sell\") * EntryCover) * ReturnRatio - fee) * \n",
    "                    tempReturn.Price * Quantity) as Return,\n",
    "                   Volume, ReturnRatio from aj(stockTrade, tempReturn, \n",
    "                                               `Exchange`Code`Date`Time)   \n",
    "```"
   ]
  },
  {
   "cell_type": "code",
   "execution_count": null,
   "metadata": {
    "slideshow": {
     "slide_type": "skip"
    }
   },
   "outputs": [],
   "source": [
    "sess.run(\"\"\"\n",
    "fee = 0.0003\n",
    "returnTick = select Code, Date, Time, \n",
    "                   Pred, Action, EntryCover, \n",
    "                   tempReturn.Price as Price, Quantity, \n",
    "                   ((((Action==\"Buy\") * EntryCover -\n",
    "                    (Action==\"Sell\") * EntryCover) * ReturnRatio - fee) * \n",
    "                    tempReturn.Price * Quantity) as Return,\n",
    "                   Volume, ReturnRatio from aj(stockTrade, tempReturn, \n",
    "                                               `Exchange`Code`Date`Time)\n",
    "\"\"\")"
   ]
  },
  {
   "cell_type": "markdown",
   "metadata": {
    "slideshow": {
     "slide_type": "subslide"
    }
   },
   "source": [
    "#### Use context by each code and date, and then caculate cumulative return "
   ]
  },
  {
   "cell_type": "code",
   "execution_count": null,
   "metadata": {
    "slideshow": {
     "slide_type": "fragment"
    }
   },
   "outputs": [],
   "source": [
    "``` dos\n",
    "returnTick = select *, cumsum(Return) as ReturnCum \n",
    "                   from returnTick context by Code, Date csort Time\n",
    "```"
   ]
  },
  {
   "cell_type": "code",
   "execution_count": null,
   "metadata": {
    "slideshow": {
     "slide_type": "skip"
    }
   },
   "outputs": [],
   "source": [
    "sess.run(\"\"\"\n",
    "returnTick = select *, cumsum(Return) as ReturnCum \n",
    "                   from returnTick context by Code, Date csort Time\n",
    "\"\"\")"
   ]
  },
  {
   "cell_type": "markdown",
   "metadata": {
    "slideshow": {
     "slide_type": "subslide"
    }
   },
   "source": [
    "#### pivot by symbol code from row to column to plot each symbol code return curve"
   ]
  },
  {
   "cell_type": "code",
   "execution_count": null,
   "metadata": {},
   "outputs": [],
   "source": [
    "``` dos\n",
    "select ReturnCum from returnTick \n",
    "        pivot by concatDateTime(Date, Time) as DateTime, Code\n",
    "```"
   ]
  },
  {
   "cell_type": "code",
   "execution_count": 52,
   "metadata": {},
   "outputs": [
    {
     "data": {
      "text/plain": [
       "<matplotlib.axes._subplots.AxesSubplot at 0x7f5ed7f303c8>"
      ]
     },
     "execution_count": 52,
     "metadata": {},
     "output_type": "execute_result"
    },
    {
     "data": {
      "image/png": "[encoded data removed]",
      "text/plain": [
       "<Figure size 432x288 with 1 Axes>"
      ]
     },
     "metadata": {
      "needs_background": "light"
     },
     "output_type": "display_data"
    }
   ],
   "source": [
    "df = sess.run(\"\"\"\n",
    "select ReturnCum from returnTick \n",
    "        pivot by concatDateTime(Date, Time) as DateTime, Code\n",
    "\"\"\")\n",
    "df.bfill().iloc[1:].plot()"
   ]
  },
  {
   "cell_type": "markdown",
   "metadata": {
    "slideshow": {
     "slide_type": "subslide"
    }
   },
   "source": [
    "#### group by all symbol for each day return"
   ]
  },
  {
   "cell_type": "code",
   "execution_count": 38,
   "metadata": {},
   "outputs": [
    {
     "data": {
      "text/html": [
       "<div>\n",
       "<style scoped>\n",
       "    .dataframe tbody tr th:only-of-type {\n",
       "        vertical-align: middle;\n",
       "    }\n",
       "\n",
       "    .dataframe tbody tr th {\n",
       "        vertical-align: top;\n",
       "    }\n",
       "\n",
       "    .dataframe thead th {\n",
       "        text-align: right;\n",
       "    }\n",
       "</style>\n",
       "<table border=\"1\" class=\"dataframe\">\n",
       "  <thead>\n",
       "    <tr style=\"text-align: right;\">\n",
       "      <th></th>\n",
       "      <th>Date</th>\n",
       "      <th>Return</th>\n",
       "    </tr>\n",
       "  </thead>\n",
       "  <tbody>\n",
       "    <tr>\n",
       "      <th>0</th>\n",
       "      <td>2020-07-08</td>\n",
       "      <td>0.493421</td>\n",
       "    </tr>\n",
       "    <tr>\n",
       "      <th>1</th>\n",
       "      <td>2020-07-10</td>\n",
       "      <td>-3.126000</td>\n",
       "    </tr>\n",
       "    <tr>\n",
       "      <th>2</th>\n",
       "      <td>2020-07-13</td>\n",
       "      <td>-2.224824</td>\n",
       "    </tr>\n",
       "    <tr>\n",
       "      <th>3</th>\n",
       "      <td>2020-07-14</td>\n",
       "      <td>5.954466</td>\n",
       "    </tr>\n",
       "    <tr>\n",
       "      <th>4</th>\n",
       "      <td>2020-07-15</td>\n",
       "      <td>-0.787402</td>\n",
       "    </tr>\n",
       "    <tr>\n",
       "      <th>5</th>\n",
       "      <td>2020-07-16</td>\n",
       "      <td>-2.195609</td>\n",
       "    </tr>\n",
       "    <tr>\n",
       "      <th>6</th>\n",
       "      <td>2020-07-17</td>\n",
       "      <td>6.694173</td>\n",
       "    </tr>\n",
       "    <tr>\n",
       "      <th>7</th>\n",
       "      <td>2020-07-20</td>\n",
       "      <td>0.189076</td>\n",
       "    </tr>\n",
       "    <tr>\n",
       "      <th>8</th>\n",
       "      <td>2020-07-27</td>\n",
       "      <td>1.086957</td>\n",
       "    </tr>\n",
       "    <tr>\n",
       "      <th>9</th>\n",
       "      <td>2020-07-28</td>\n",
       "      <td>-1.309446</td>\n",
       "    </tr>\n",
       "    <tr>\n",
       "      <th>10</th>\n",
       "      <td>2020-07-29</td>\n",
       "      <td>-1.113106</td>\n",
       "    </tr>\n",
       "    <tr>\n",
       "      <th>11</th>\n",
       "      <td>2020-07-30</td>\n",
       "      <td>2.678707</td>\n",
       "    </tr>\n",
       "    <tr>\n",
       "      <th>12</th>\n",
       "      <td>2020-08-03</td>\n",
       "      <td>2.070064</td>\n",
       "    </tr>\n",
       "    <tr>\n",
       "      <th>13</th>\n",
       "      <td>2020-08-04</td>\n",
       "      <td>5.456349</td>\n",
       "    </tr>\n",
       "    <tr>\n",
       "      <th>14</th>\n",
       "      <td>2020-08-06</td>\n",
       "      <td>-2.010724</td>\n",
       "    </tr>\n",
       "    <tr>\n",
       "      <th>15</th>\n",
       "      <td>2020-08-10</td>\n",
       "      <td>-2.448980</td>\n",
       "    </tr>\n",
       "    <tr>\n",
       "      <th>16</th>\n",
       "      <td>2020-08-11</td>\n",
       "      <td>3.733662</td>\n",
       "    </tr>\n",
       "    <tr>\n",
       "      <th>17</th>\n",
       "      <td>2020-08-12</td>\n",
       "      <td>0.000000</td>\n",
       "    </tr>\n",
       "    <tr>\n",
       "      <th>18</th>\n",
       "      <td>2020-08-13</td>\n",
       "      <td>13.801502</td>\n",
       "    </tr>\n",
       "    <tr>\n",
       "      <th>19</th>\n",
       "      <td>2020-08-14</td>\n",
       "      <td>2.204926</td>\n",
       "    </tr>\n",
       "    <tr>\n",
       "      <th>20</th>\n",
       "      <td>2020-08-17</td>\n",
       "      <td>-5.224964</td>\n",
       "    </tr>\n",
       "  </tbody>\n",
       "</table>\n",
       "</div>"
      ],
      "text/plain": [
       "         Date     Return\n",
       "0  2020-07-08   0.493421\n",
       "1  2020-07-10  -3.126000\n",
       "2  2020-07-13  -2.224824\n",
       "3  2020-07-14   5.954466\n",
       "4  2020-07-15  -0.787402\n",
       "5  2020-07-16  -2.195609\n",
       "6  2020-07-17   6.694173\n",
       "7  2020-07-20   0.189076\n",
       "8  2020-07-27   1.086957\n",
       "9  2020-07-28  -1.309446\n",
       "10 2020-07-29  -1.113106\n",
       "11 2020-07-30   2.678707\n",
       "12 2020-08-03   2.070064\n",
       "13 2020-08-04   5.456349\n",
       "14 2020-08-06  -2.010724\n",
       "15 2020-08-10  -2.448980\n",
       "16 2020-08-11   3.733662\n",
       "17 2020-08-12   0.000000\n",
       "18 2020-08-13  13.801502\n",
       "19 2020-08-14   2.204926\n",
       "20 2020-08-17  -5.224964"
      ]
     },
     "execution_count": 38,
     "metadata": {},
     "output_type": "execute_result"
    }
   ],
   "source": [
    "sess.run(\"\"\"\n",
    "select sum(Return) as Return from returnTick group by Date\n",
    "\"\"\")"
   ]
  },
  {
   "cell_type": "markdown",
   "metadata": {
    "slideshow": {
     "slide_type": "slide"
    }
   },
   "source": [
    "### Q&A"
   ]
  }
 ],
 "metadata": {
  "kernelspec": {
   "display_name": "Python 3",
   "language": "python",
   "name": "python3"
  },
  "language_info": {
   "codemirror_mode": {
    "name": "ipython",
    "version": 3
   },
   "file_extension": ".py",
   "mimetype": "text/x-python",
   "name": "python",
   "nbconvert_exporter": "python",
   "pygments_lexer": "ipython3",
   "version": "3.7.0"
  }
 },
 "nbformat": 4,
 "nbformat_minor": 4
}
