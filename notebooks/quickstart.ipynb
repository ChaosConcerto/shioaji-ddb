{
 "cells": [
  {
   "cell_type": "markdown",
   "metadata": {},
   "source": [
    "## QuickStart with shioaji"
   ]
  },
  {
   "cell_type": "code",
   "execution_count": 1,
   "metadata": {},
   "outputs": [],
   "source": [
    "! pip install -U shioaji"
   ]
  },
  {
   "cell_type": "code",
   "execution_count": 1,
   "metadata": {},
   "outputs": [],
   "source": [
    "import shioaji as sj"
   ]
  },
  {
   "cell_type": "code",
   "execution_count": 3,
   "metadata": {},
   "outputs": [],
   "source": [
    "import json\n",
    "with open(\"login.json\", \"r\") as f:\n",
    "    login_kwargs = json.loads(f.read())"
   ]
  },
  {
   "cell_type": "code",
   "execution_count": 7,
   "metadata": {},
   "outputs": [
    {
     "name": "stdout",
     "output_type": "stream",
     "text": [
      "Response Code: 0 | Event Code: 0 | Info: host '203.66.91.161:80', IP 203.66.91.161:80 (host 1 of 1) (host connection attempt 1 of 1) (total connection attempt 1 of 1) | Event: Session up\n"
     ]
    }
   ],
   "source": [
    "api = sj.Shioaji()"
   ]
  },
  {
   "cell_type": "code",
   "execution_count": 8,
   "metadata": {},
   "outputs": [
    {
     "name": "stdout",
     "output_type": "stream",
     "text": [
      "SecurityType.Index\n",
      "SecurityType.Future\n",
      "SecurityType.Option\n",
      "SecurityType.Stock\n"
     ]
    }
   ],
   "source": [
    "accounts = api.login(**login_kwargs, contracts_cb=print)"
   ]
  },
  {
   "cell_type": "code",
   "execution_count": 2,
   "metadata": {},
   "outputs": [
    {
     "name": "stdout",
     "output_type": "stream",
     "text": [
      "Response Code: 0 | Event Code: 0 | Info: host '218.32.76.102:80', IP 218.32.76.102:80 (host 1 of 1) (host connection attempt 1 of 1) (total connection attempt 1 of 1) | Event: Session up\n"
     ]
    }
   ],
   "source": [
    "api = sj.Shioaji(simulation=True)"
   ]
  },
  {
   "cell_type": "markdown",
   "metadata": {},
   "source": [
    "### testing account\n",
    "PAPIUSER01\n",
    "...\n",
    "PAPIUSER10"
   ]
  },
  {
   "cell_type": "code",
   "execution_count": 3,
   "metadata": {},
   "outputs": [
    {
     "name": "stdout",
     "output_type": "stream",
     "text": [
      "SecurityType.Index\n",
      "SecurityType.Future\n"
     ]
    },
    {
     "data": {
      "text/plain": [
       "[FutureAccount(person_id='PAPIUSER02', broker_id='F002000', account_id='9100295', signed=True, username='PAPIUSER02'),\n",
       " StockAccount(person_id='PAPIUSER02', broker_id='9A95', account_id='0504486', signed=True, username='PAPIUSER02')]"
      ]
     },
     "execution_count": 3,
     "metadata": {},
     "output_type": "execute_result"
    },
    {
     "name": "stdout",
     "output_type": "stream",
     "text": [
      "SecurityType.Option\n",
      "SecurityType.Stock\n"
     ]
    }
   ],
   "source": [
    "api.login(\"PAPIUSER02\", \"2222\", contracts_cb=print)"
   ]
  },
  {
   "cell_type": "markdown",
   "metadata": {},
   "source": [
    "### shioaji there main components\n",
    "- Contract\n",
    "- Order\n",
    "- Trade"
   ]
  },
  {
   "cell_type": "code",
   "execution_count": 9,
   "metadata": {},
   "outputs": [
    {
     "data": {
      "text/plain": [
       "Contracts(Indexs=(OTC, TSE), Stocks=(OES, OTC, TSE), Futures=(BRF, BTF, CAF, CBF, CCF, CDF, CEF, CFF, CGF, CHF, CJF, CKF, CLF, CMF, CNF, CQF, CRF, CSF, CUF, CWF, CXF, CYF, CZF, DCF, DD1, DDF, DEF, DFF, DGF, DHF, DIF, DJF, DKF, DLF, DNF, DOF, DPF, DQF, DSF, DUF, DVF, DWF, DXF, DYF, DZF, E4F, EEF, EGF, EHF, EMF, EPF, ERF, EXF, EYF, FEF, FFF, FGF, FKF, FQF, FRF, FTF, FVF, FWF, FXF, FYF, FZF, G2F, GAF, GCF, GDF, GHF, GIF, GJF, GLF, GMF, GNF, GOF, GRF, GTF, GUF, GWF, GXF, GZF, HAF, HBF, HCF, HHF, HIF, HLF, HOF, HSF, HYF, IAF, IHF, IIF, IJF, IMF, IOF, IPF, IQF, IRF, ITF, IXF, IYF, IZF, JBF, JFF, JNF, JPF, JSF, JWF, JZF, KAF, KB1, KBF, KCF, KDF, KEF, KFF, KGF, KIF, KKF, KLF, KOF, KPF, KSF, KWF, LBF, LCF, LEF, LIF, LMF, LOF, LQF, LRF, LTF, LUF, LV1, LVF, LWF, LXF, LYF, MAF, MBF, MCF, MJF, MKF, MPF, MQF, MVF, MX4, MXF, MYF, NAF, NBF, NCF, NDF, NEF, NGF, NIF, NJF, NLF, NMF, NOF, NQF, NSF, NUF, NVF, NWF, NXF, NYF, NZF, OAF, OBF, OCF, ODF, OEF, OGF, OHF, OJF, OKF, OLF, OMF, OOF, OPF, OQF, ORF, OSF, OTF, OUF, OVF, OWF, OXF, OYF, OZF, PAF, PBF, PCF, PDF, PEF, PFF, PGF, PHF, PIF, PJF, PKF, PLF, PMF, PNF, POF, PPF, PQF, PRF, PSF, RHF, RTF, SPF, T5F, TGF, TJF, TXF, UDF, UNF, XAF, XBF, XEF, XIF, XJF), Options=(CAO, CBO, CCO, CDA, CDO, CEO, CFO, CGO, CHO, CJO, CKO, CLO, CMO, CNO, CQO, CRO, CSA, CSO, CXO, CZO, DCO, DEA, DEO, DFO, DGO, DHO, DJO, DKO, DLO, DNO, DOO, DPO, DQO, DSO, DUO, DVO, DWO, DXO, GIO, GXO, HCO, IJO, LOO, NYO, NZO, OAO, OBO, OCO, OJO, OKO, OOO, OZO, RHO, RTO, TEO, TFO, TGO, TX4, TXO))"
      ]
     },
     "execution_count": 9,
     "metadata": {},
     "output_type": "execute_result"
    }
   ],
   "source": [
    "api.Contracts"
   ]
  },
  {
   "cell_type": "code",
   "execution_count": 11,
   "metadata": {},
   "outputs": [
    {
     "data": {
      "text/plain": [
       "Stock(exchange=<Exchange.TSE: 'TSE'>, code='2330', symbol='TSE2330', name='台積電', category='24', limit_up=343.0, limit_down=281.0, reference=312.0, update_date='2020/06/23', margin_trading_balance=2990, short_selling_balance=177, day_trade=<DayTrade.Yes: 'Yes'>)"
      ]
     },
     "execution_count": 11,
     "metadata": {},
     "output_type": "execute_result"
    }
   ],
   "source": [
    "stock_contract = api.Contracts.Stocks[\"2330\"]\n",
    "stock_contract"
   ]
  },
  {
   "cell_type": "code",
   "execution_count": 13,
   "metadata": {},
   "outputs": [
    {
     "data": {
      "text/plain": [
       "TXF(TXF202106, TXF202009, TXF202008, TXF202007, TXF202012, TXF202103)"
      ]
     },
     "execution_count": 13,
     "metadata": {},
     "output_type": "execute_result"
    }
   ],
   "source": [
    "api.Contracts.Futures.TXF"
   ]
  },
  {
   "cell_type": "code",
   "execution_count": 15,
   "metadata": {},
   "outputs": [
    {
     "data": {
      "text/plain": [
       "Future(code='TXFG0', symbol='TXF202007', name='臺股期貨', category='TXF', delivery_month='202007', underlying_kind='I', limit_up=12563.0, limit_down=10279.0, reference=11421.0, update_date='2020/06/23')"
      ]
     },
     "execution_count": 15,
     "metadata": {},
     "output_type": "execute_result"
    }
   ],
   "source": [
    "futures_contract = api.Contracts.Futures.TXF.TXF202007\n",
    "futures_contract"
   ]
  },
  {
   "cell_type": "markdown",
   "metadata": {},
   "source": [
    "### Subscribe Streaming Quote Data"
   ]
  },
  {
   "cell_type": "code",
   "execution_count": 16,
   "metadata": {},
   "outputs": [
    {
     "name": "stdout",
     "output_type": "stream",
     "text": [
      "Response Code: 200 | Event Code: 16 | Info: MKT/*/TSE/2330 | Event: Subscribe or Unsubscribe ok\n"
     ]
    }
   ],
   "source": [
    "api.quote.subscribe(api.Contracts.Stocks[\"2330\"], sj.constant.QuoteType.Tick)"
   ]
  },
  {
   "cell_type": "code",
   "execution_count": 19,
   "metadata": {},
   "outputs": [
    {
     "name": "stdout",
     "output_type": "stream",
     "text": [
      "Response Code: 200 | Event Code: 16 | Info: L/*/TXFG0 | Event: Subscribe or Unsubscribe ok\n"
     ]
    }
   ],
   "source": [
    "api.quote.unsubscribe(api.Contracts.Futures.TXF.TXF202007)"
   ]
  },
  {
   "cell_type": "code",
   "execution_count": 17,
   "metadata": {},
   "outputs": [],
   "source": [
    "@api.quote.on_quote\n",
    "def on_quote(topic: str, quote: dict):\n",
    "    print(f\"Topic: {topic}, Quote: {quote}\")"
   ]
  },
  {
   "cell_type": "code",
   "execution_count": 18,
   "metadata": {},
   "outputs": [
    {
     "name": "stdout",
     "output_type": "stream",
     "text": [
      "Response Code: 200 | Event Code: 16 | Info: L/*/TXFG0 | Event: Subscribe or Unsubscribe ok\n",
      "Topic: L/TFE/TXFG0, Quote: {'Amount': [11494.0], 'AmountSum': [66735843.0], 'AvgPrice': [11486.37573149742], 'Close': [11494.0], 'Code': 'TXFG0', 'Date': '2020/06/23', 'DiffPrice': [38.0], 'DiffRate': [0.33170391061452514], 'DiffType': [2], 'High': [11500.0], 'Low': [11460.0], 'Open': 11470.0, 'TargetKindPrice': 11612.36, 'TickType': [2], 'Time': '16:03:37.908000', 'TradeAskVolSum': 3621, 'TradeBidVolSum': 2957, 'VolSum': [5810], 'Volume': [1]}\n"
     ]
    }
   ],
   "source": [
    "api.quote.subscribe(api.Contracts.Futures.TXF.TXF202007)"
   ]
  },
  {
   "cell_type": "markdown",
   "metadata": {},
   "source": [
    "### Placing Order"
   ]
  },
  {
   "cell_type": "code",
   "execution_count": 20,
   "metadata": {},
   "outputs": [
    {
     "data": {
      "text/plain": [
       "\u001b[0;31mInit signature:\u001b[0m\n",
       "\u001b[0msj\u001b[0m\u001b[0;34m.\u001b[0m\u001b[0mOrder\u001b[0m\u001b[0;34m(\u001b[0m\u001b[0;34m\u001b[0m\n",
       "\u001b[0;34m\u001b[0m    \u001b[0mprice\u001b[0m\u001b[0;34m:\u001b[0m \u001b[0mUnion\u001b[0m\u001b[0;34m[\u001b[0m\u001b[0mpydantic\u001b[0m\u001b[0;34m.\u001b[0m\u001b[0mtypes\u001b[0m\u001b[0;34m.\u001b[0m\u001b[0mStrictInt\u001b[0m\u001b[0;34m,\u001b[0m \u001b[0mint\u001b[0m\u001b[0;34m]\u001b[0m\u001b[0;34m,\u001b[0m\u001b[0;34m\u001b[0m\n",
       "\u001b[0;34m\u001b[0m    \u001b[0mquantity\u001b[0m\u001b[0;34m:\u001b[0m \u001b[0mshioaji\u001b[0m\u001b[0;34m.\u001b[0m\u001b[0morder\u001b[0m\u001b[0;34m.\u001b[0m\u001b[0mConstrainedIntValue\u001b[0m\u001b[0;34m,\u001b[0m\u001b[0;34m\u001b[0m\n",
       "\u001b[0;34m\u001b[0m    \u001b[0maction\u001b[0m\u001b[0;34m:\u001b[0m \u001b[0mshioaji\u001b[0m\u001b[0;34m.\u001b[0m\u001b[0mconstant\u001b[0m\u001b[0;34m.\u001b[0m\u001b[0mAction\u001b[0m\u001b[0;34m,\u001b[0m\u001b[0;34m\u001b[0m\n",
       "\u001b[0;34m\u001b[0m    \u001b[0mprice_type\u001b[0m\u001b[0;34m:\u001b[0m \u001b[0mUnion\u001b[0m\u001b[0;34m[\u001b[0m\u001b[0mshioaji\u001b[0m\u001b[0;34m.\u001b[0m\u001b[0mconstant\u001b[0m\u001b[0;34m.\u001b[0m\u001b[0mStockPriceType\u001b[0m\u001b[0;34m,\u001b[0m \u001b[0mshioaji\u001b[0m\u001b[0;34m.\u001b[0m\u001b[0mconstant\u001b[0m\u001b[0;34m.\u001b[0m\u001b[0mFuturesPriceType\u001b[0m\u001b[0;34m,\u001b[0m \u001b[0mshioaji\u001b[0m\u001b[0;34m.\u001b[0m\u001b[0mconstant\u001b[0m\u001b[0;34m.\u001b[0m\u001b[0mTFTStockPriceType\u001b[0m\u001b[0;34m]\u001b[0m\u001b[0;34m,\u001b[0m\u001b[0;34m\u001b[0m\n",
       "\u001b[0;34m\u001b[0m    \u001b[0morder_type\u001b[0m\u001b[0;34m:\u001b[0m \u001b[0mUnion\u001b[0m\u001b[0;34m[\u001b[0m\u001b[0mshioaji\u001b[0m\u001b[0;34m.\u001b[0m\u001b[0mconstant\u001b[0m\u001b[0;34m.\u001b[0m\u001b[0mStockOrderType\u001b[0m\u001b[0;34m,\u001b[0m \u001b[0mshioaji\u001b[0m\u001b[0;34m.\u001b[0m\u001b[0mconstant\u001b[0m\u001b[0;34m.\u001b[0m\u001b[0mFuturesOrderType\u001b[0m\u001b[0;34m,\u001b[0m \u001b[0mshioaji\u001b[0m\u001b[0;34m.\u001b[0m\u001b[0mconstant\u001b[0m\u001b[0;34m.\u001b[0m\u001b[0mTFTOrderType\u001b[0m\u001b[0;34m]\u001b[0m\u001b[0;34m,\u001b[0m\u001b[0;34m\u001b[0m\n",
       "\u001b[0;34m\u001b[0m    \u001b[0;34m**\u001b[0m\u001b[0mkwargs\u001b[0m\u001b[0;34m,\u001b[0m\u001b[0;34m\u001b[0m\n",
       "\u001b[0;34m\u001b[0m\u001b[0;34m)\u001b[0m\u001b[0;34m\u001b[0m\u001b[0m\n",
       "\u001b[0;31mDocstring:\u001b[0m      <no docstring>\n",
       "\u001b[0;31mFile:\u001b[0m           ~/.pyenv/versions/miniconda3-latest/lib/python3.7/site-packages/shioaji/order.py\n",
       "\u001b[0;31mType:\u001b[0m           ModelMetaclass\n",
       "\u001b[0;31mSubclasses:\u001b[0m     \n"
      ]
     },
     "metadata": {},
     "output_type": "display_data"
    }
   ],
   "source": [
    "sj.Order?"
   ]
  },
  {
   "cell_type": "code",
   "execution_count": 23,
   "metadata": {},
   "outputs": [
    {
     "data": {
      "text/plain": [
       "\u001b[0;31mInit signature:\u001b[0m \u001b[0msj\u001b[0m\u001b[0;34m.\u001b[0m\u001b[0morder\u001b[0m\u001b[0;34m.\u001b[0m\u001b[0mStockOrder\u001b[0m\u001b[0;34m(\u001b[0m\u001b[0;34m**\u001b[0m\u001b[0mdata\u001b[0m\u001b[0;34m:\u001b[0m \u001b[0mAny\u001b[0m\u001b[0;34m)\u001b[0m \u001b[0;34m->\u001b[0m \u001b[0;32mNone\u001b[0m\u001b[0;34m\u001b[0m\u001b[0m\n",
       "\u001b[0;31mDocstring:\u001b[0m      <no docstring>\n",
       "\u001b[0;31mSource:\u001b[0m        \n",
       "\u001b[0;32mclass\u001b[0m \u001b[0mStockOrder\u001b[0m\u001b[0;34m(\u001b[0m\u001b[0mBaseOrder\u001b[0m\u001b[0;34m)\u001b[0m\u001b[0;34m:\u001b[0m\u001b[0;34m\u001b[0m\n",
       "\u001b[0;34m\u001b[0m    \u001b[0mprice_type\u001b[0m\u001b[0;34m:\u001b[0m \u001b[0mStockPriceType\u001b[0m\u001b[0;34m\u001b[0m\n",
       "\u001b[0;34m\u001b[0m    \u001b[0morder_type\u001b[0m\u001b[0;34m:\u001b[0m \u001b[0mStockOrderType\u001b[0m\u001b[0;34m\u001b[0m\n",
       "\u001b[0;34m\u001b[0m    \u001b[0morder_cond\u001b[0m\u001b[0;34m:\u001b[0m \u001b[0mStockOrderCond\u001b[0m \u001b[0;34m=\u001b[0m \u001b[0mStockOrderCond\u001b[0m\u001b[0;34m.\u001b[0m\u001b[0mCash\u001b[0m\u001b[0;34m\u001b[0m\n",
       "\u001b[0;34m\u001b[0m    \u001b[0mfirst_sell\u001b[0m\u001b[0;34m:\u001b[0m \u001b[0mStockFirstSell\u001b[0m \u001b[0;34m=\u001b[0m \u001b[0mStockFirstSell\u001b[0m\u001b[0;34m.\u001b[0m\u001b[0mNo\u001b[0m\u001b[0;34m\u001b[0m\u001b[0m\n",
       "\u001b[0;31mFile:\u001b[0m           ~/.pyenv/versions/miniconda3-latest/lib/python3.7/site-packages/shioaji/order.py\n",
       "\u001b[0;31mType:\u001b[0m           ModelMetaclass\n",
       "\u001b[0;31mSubclasses:\u001b[0m     Order\n"
      ]
     },
     "metadata": {},
     "output_type": "display_data"
    }
   ],
   "source": [
    "sj.order.StockOrder??"
   ]
  },
  {
   "cell_type": "markdown",
   "metadata": {},
   "source": [
    "### more detail inside [shioaji doc](https://sinotrade.github.io/tutor/order/Stock/)"
   ]
  },
  {
   "cell_type": "markdown",
   "metadata": {},
   "source": [
    "### Currently, focus on streaming data processing\n",
    "\n",
    "build the class for special handling realtime quote ( use class can access the member variables replace the single function with global variables to obtain more testability )\n",
    "\n",
    "the most simple example use redis as data collector just collect data into it and handle it later"
   ]
  },
  {
   "cell_type": "code",
   "execution_count": 7,
   "metadata": {},
   "outputs": [],
   "source": [
    "import redis\n",
    "import msgpack\n",
    "import pandas as pd\n",
    "\n",
    "class RedisQuoteManager:\n",
    "    def __init__(self, rs: redis.Redis):\n",
    "        self.rs = rs\n",
    "    \n",
    "    def on_quote(self, topic: str, quote: dict):\n",
    "        self.rs.rpush(topic, msgpack.dumps(quote))"
   ]
  },
  {
   "cell_type": "code",
   "execution_count": 2,
   "metadata": {},
   "outputs": [],
   "source": [
    "from sjddb.quote_managers import flatten_tick"
   ]
  },
  {
   "cell_type": "code",
   "execution_count": 3,
   "metadata": {},
   "outputs": [],
   "source": [
    "rs = redis.Redis(db=0)\n",
    "rqm = RedisQuoteManager(rs)\n",
    "api.quote.set_quote_callback(rqm.on_quote)"
   ]
  },
  {
   "cell_type": "code",
   "execution_count": 12,
   "metadata": {},
   "outputs": [],
   "source": [
    "data = [msgpack.loads(r, raw=False) for r in rs.lrange(rs.keys(\"MKT*/2330\")[0], 0, -2)]"
   ]
  },
  {
   "cell_type": "code",
   "execution_count": 23,
   "metadata": {},
   "outputs": [],
   "source": [
    "df = pd.DataFrame([flatten_tick(d, i) for d in data for i, _ in enumerate(d[\"Close\"])])"
   ]
  },
  {
   "cell_type": "code",
   "execution_count": 24,
   "metadata": {},
   "outputs": [],
   "source": [
    "df[\"Datetime\"] = pd.to_datetime(df[\"Date\"] + \" \" + df[\"Time\"], format=\"%Y/%m/%d %H:%M:%S.%f\")"
   ]
  },
  {
   "cell_type": "code",
   "execution_count": 28,
   "metadata": {},
   "outputs": [],
   "source": [
    "df = df[[\"Datetime\", \"Close\", \"Volume\", \"index\", \"TickType\", \"Simtrade\"]].copy()"
   ]
  },
  {
   "cell_type": "code",
   "execution_count": 31,
   "metadata": {},
   "outputs": [],
   "source": [
    "df_tick_2330 = df[df['Simtrade'] != 1]"
   ]
  },
  {
   "cell_type": "code",
   "execution_count": 42,
   "metadata": {},
   "outputs": [
    {
     "data": {
      "text/html": [
       "<div>\n",
       "<style scoped>\n",
       "    .dataframe tbody tr th:only-of-type {\n",
       "        vertical-align: middle;\n",
       "    }\n",
       "\n",
       "    .dataframe tbody tr th {\n",
       "        vertical-align: top;\n",
       "    }\n",
       "\n",
       "    .dataframe thead th {\n",
       "        text-align: right;\n",
       "    }\n",
       "</style>\n",
       "<table border=\"1\" class=\"dataframe\">\n",
       "  <thead>\n",
       "    <tr style=\"text-align: right;\">\n",
       "      <th></th>\n",
       "      <th>Datetime</th>\n",
       "      <th>Close</th>\n",
       "      <th>Volume</th>\n",
       "      <th>index</th>\n",
       "      <th>TickType</th>\n",
       "      <th>Simtrade</th>\n",
       "    </tr>\n",
       "  </thead>\n",
       "  <tbody>\n",
       "    <tr>\n",
       "      <th>355</th>\n",
       "      <td>2020-06-23 09:00:00.963777</td>\n",
       "      <td>316.0</td>\n",
       "      <td>2586</td>\n",
       "      <td>0</td>\n",
       "      <td>1</td>\n",
       "      <td>NaN</td>\n",
       "    </tr>\n",
       "    <tr>\n",
       "      <th>356</th>\n",
       "      <td>2020-06-23 09:00:00.986819</td>\n",
       "      <td>316.0</td>\n",
       "      <td>1</td>\n",
       "      <td>0</td>\n",
       "      <td>2</td>\n",
       "      <td>NaN</td>\n",
       "    </tr>\n",
       "    <tr>\n",
       "      <th>357</th>\n",
       "      <td>2020-06-23 09:00:01.084297</td>\n",
       "      <td>316.0</td>\n",
       "      <td>10</td>\n",
       "      <td>0</td>\n",
       "      <td>2</td>\n",
       "      <td>NaN</td>\n",
       "    </tr>\n",
       "    <tr>\n",
       "      <th>358</th>\n",
       "      <td>2020-06-23 09:00:01.170694</td>\n",
       "      <td>316.0</td>\n",
       "      <td>2</td>\n",
       "      <td>0</td>\n",
       "      <td>2</td>\n",
       "      <td>NaN</td>\n",
       "    </tr>\n",
       "    <tr>\n",
       "      <th>359</th>\n",
       "      <td>2020-06-23 09:00:01.588050</td>\n",
       "      <td>316.0</td>\n",
       "      <td>2</td>\n",
       "      <td>0</td>\n",
       "      <td>2</td>\n",
       "      <td>NaN</td>\n",
       "    </tr>\n",
       "  </tbody>\n",
       "</table>\n",
       "</div>"
      ],
      "text/plain": [
       "                      Datetime  Close  Volume  index  TickType  Simtrade\n",
       "355 2020-06-23 09:00:00.963777  316.0    2586      0         1       NaN\n",
       "356 2020-06-23 09:00:00.986819  316.0       1      0         2       NaN\n",
       "357 2020-06-23 09:00:01.084297  316.0      10      0         2       NaN\n",
       "358 2020-06-23 09:00:01.170694  316.0       2      0         2       NaN\n",
       "359 2020-06-23 09:00:01.588050  316.0       2      0         2       NaN"
      ]
     },
     "execution_count": 42,
     "metadata": {},
     "output_type": "execute_result"
    }
   ],
   "source": [
    "df_tick_2330.head()"
   ]
  },
  {
   "cell_type": "code",
   "execution_count": 41,
   "metadata": {},
   "outputs": [
    {
     "data": {
      "text/html": [
       "<div>\n",
       "<style scoped>\n",
       "    .dataframe tbody tr th:only-of-type {\n",
       "        vertical-align: middle;\n",
       "    }\n",
       "\n",
       "    .dataframe tbody tr th {\n",
       "        vertical-align: top;\n",
       "    }\n",
       "\n",
       "    .dataframe thead th {\n",
       "        text-align: right;\n",
       "    }\n",
       "</style>\n",
       "<table border=\"1\" class=\"dataframe\">\n",
       "  <thead>\n",
       "    <tr style=\"text-align: right;\">\n",
       "      <th></th>\n",
       "      <th>open</th>\n",
       "      <th>high</th>\n",
       "      <th>low</th>\n",
       "      <th>close</th>\n",
       "      <th>Volume</th>\n",
       "    </tr>\n",
       "    <tr>\n",
       "      <th>Datetime</th>\n",
       "      <th></th>\n",
       "      <th></th>\n",
       "      <th></th>\n",
       "      <th></th>\n",
       "      <th></th>\n",
       "    </tr>\n",
       "  </thead>\n",
       "  <tbody>\n",
       "    <tr>\n",
       "      <th>2020-06-23 09:00:00</th>\n",
       "      <td>316.0</td>\n",
       "      <td>316.5</td>\n",
       "      <td>315.5</td>\n",
       "      <td>316.0</td>\n",
       "      <td>3162</td>\n",
       "    </tr>\n",
       "    <tr>\n",
       "      <th>2020-06-23 09:01:00</th>\n",
       "      <td>315.5</td>\n",
       "      <td>316.0</td>\n",
       "      <td>315.5</td>\n",
       "      <td>315.5</td>\n",
       "      <td>94</td>\n",
       "    </tr>\n",
       "    <tr>\n",
       "      <th>2020-06-23 09:02:00</th>\n",
       "      <td>315.5</td>\n",
       "      <td>316.0</td>\n",
       "      <td>315.5</td>\n",
       "      <td>316.0</td>\n",
       "      <td>150</td>\n",
       "    </tr>\n",
       "    <tr>\n",
       "      <th>2020-06-23 09:03:00</th>\n",
       "      <td>316.0</td>\n",
       "      <td>316.0</td>\n",
       "      <td>315.5</td>\n",
       "      <td>316.0</td>\n",
       "      <td>664</td>\n",
       "    </tr>\n",
       "    <tr>\n",
       "      <th>2020-06-23 09:04:00</th>\n",
       "      <td>316.0</td>\n",
       "      <td>316.0</td>\n",
       "      <td>315.5</td>\n",
       "      <td>316.0</td>\n",
       "      <td>591</td>\n",
       "    </tr>\n",
       "    <tr>\n",
       "      <th>2020-06-23 09:05:00</th>\n",
       "      <td>316.0</td>\n",
       "      <td>316.0</td>\n",
       "      <td>315.5</td>\n",
       "      <td>316.0</td>\n",
       "      <td>251</td>\n",
       "    </tr>\n",
       "    <tr>\n",
       "      <th>2020-06-23 09:06:00</th>\n",
       "      <td>316.0</td>\n",
       "      <td>316.0</td>\n",
       "      <td>315.5</td>\n",
       "      <td>316.0</td>\n",
       "      <td>117</td>\n",
       "    </tr>\n",
       "    <tr>\n",
       "      <th>2020-06-23 09:07:00</th>\n",
       "      <td>315.5</td>\n",
       "      <td>316.0</td>\n",
       "      <td>315.5</td>\n",
       "      <td>315.5</td>\n",
       "      <td>72</td>\n",
       "    </tr>\n",
       "    <tr>\n",
       "      <th>2020-06-23 09:08:00</th>\n",
       "      <td>315.5</td>\n",
       "      <td>316.0</td>\n",
       "      <td>315.5</td>\n",
       "      <td>315.5</td>\n",
       "      <td>101</td>\n",
       "    </tr>\n",
       "    <tr>\n",
       "      <th>2020-06-23 09:09:00</th>\n",
       "      <td>315.5</td>\n",
       "      <td>316.5</td>\n",
       "      <td>315.5</td>\n",
       "      <td>316.5</td>\n",
       "      <td>1100</td>\n",
       "    </tr>\n",
       "    <tr>\n",
       "      <th>2020-06-23 09:10:00</th>\n",
       "      <td>316.0</td>\n",
       "      <td>316.5</td>\n",
       "      <td>316.0</td>\n",
       "      <td>316.0</td>\n",
       "      <td>178</td>\n",
       "    </tr>\n",
       "    <tr>\n",
       "      <th>2020-06-23 09:11:00</th>\n",
       "      <td>316.5</td>\n",
       "      <td>316.5</td>\n",
       "      <td>316.0</td>\n",
       "      <td>316.5</td>\n",
       "      <td>165</td>\n",
       "    </tr>\n",
       "    <tr>\n",
       "      <th>2020-06-23 09:12:00</th>\n",
       "      <td>316.5</td>\n",
       "      <td>316.5</td>\n",
       "      <td>316.0</td>\n",
       "      <td>316.0</td>\n",
       "      <td>46</td>\n",
       "    </tr>\n",
       "    <tr>\n",
       "      <th>2020-06-23 09:13:00</th>\n",
       "      <td>316.0</td>\n",
       "      <td>316.5</td>\n",
       "      <td>316.0</td>\n",
       "      <td>316.0</td>\n",
       "      <td>88</td>\n",
       "    </tr>\n",
       "    <tr>\n",
       "      <th>2020-06-23 09:14:00</th>\n",
       "      <td>316.5</td>\n",
       "      <td>316.5</td>\n",
       "      <td>316.0</td>\n",
       "      <td>316.0</td>\n",
       "      <td>382</td>\n",
       "    </tr>\n",
       "    <tr>\n",
       "      <th>2020-06-23 09:15:00</th>\n",
       "      <td>316.5</td>\n",
       "      <td>316.5</td>\n",
       "      <td>315.0</td>\n",
       "      <td>315.0</td>\n",
       "      <td>1100</td>\n",
       "    </tr>\n",
       "    <tr>\n",
       "      <th>2020-06-23 09:16:00</th>\n",
       "      <td>315.5</td>\n",
       "      <td>316.0</td>\n",
       "      <td>315.5</td>\n",
       "      <td>315.5</td>\n",
       "      <td>140</td>\n",
       "    </tr>\n",
       "    <tr>\n",
       "      <th>2020-06-23 09:17:00</th>\n",
       "      <td>316.0</td>\n",
       "      <td>316.0</td>\n",
       "      <td>315.5</td>\n",
       "      <td>315.5</td>\n",
       "      <td>262</td>\n",
       "    </tr>\n",
       "    <tr>\n",
       "      <th>2020-06-23 09:18:00</th>\n",
       "      <td>316.0</td>\n",
       "      <td>316.0</td>\n",
       "      <td>315.0</td>\n",
       "      <td>315.5</td>\n",
       "      <td>172</td>\n",
       "    </tr>\n",
       "    <tr>\n",
       "      <th>2020-06-23 09:19:00</th>\n",
       "      <td>315.5</td>\n",
       "      <td>315.5</td>\n",
       "      <td>315.0</td>\n",
       "      <td>315.0</td>\n",
       "      <td>242</td>\n",
       "    </tr>\n",
       "    <tr>\n",
       "      <th>2020-06-23 09:20:00</th>\n",
       "      <td>315.0</td>\n",
       "      <td>315.5</td>\n",
       "      <td>314.5</td>\n",
       "      <td>314.5</td>\n",
       "      <td>230</td>\n",
       "    </tr>\n",
       "    <tr>\n",
       "      <th>2020-06-23 09:21:00</th>\n",
       "      <td>314.5</td>\n",
       "      <td>315.0</td>\n",
       "      <td>314.5</td>\n",
       "      <td>314.5</td>\n",
       "      <td>173</td>\n",
       "    </tr>\n",
       "    <tr>\n",
       "      <th>2020-06-23 09:22:00</th>\n",
       "      <td>315.0</td>\n",
       "      <td>315.0</td>\n",
       "      <td>314.5</td>\n",
       "      <td>315.0</td>\n",
       "      <td>129</td>\n",
       "    </tr>\n",
       "    <tr>\n",
       "      <th>2020-06-23 09:23:00</th>\n",
       "      <td>315.0</td>\n",
       "      <td>315.0</td>\n",
       "      <td>314.5</td>\n",
       "      <td>314.5</td>\n",
       "      <td>104</td>\n",
       "    </tr>\n",
       "    <tr>\n",
       "      <th>2020-06-23 09:24:00</th>\n",
       "      <td>315.0</td>\n",
       "      <td>315.0</td>\n",
       "      <td>314.0</td>\n",
       "      <td>314.5</td>\n",
       "      <td>179</td>\n",
       "    </tr>\n",
       "    <tr>\n",
       "      <th>2020-06-23 09:25:00</th>\n",
       "      <td>314.0</td>\n",
       "      <td>315.0</td>\n",
       "      <td>314.0</td>\n",
       "      <td>314.5</td>\n",
       "      <td>168</td>\n",
       "    </tr>\n",
       "    <tr>\n",
       "      <th>2020-06-23 09:26:00</th>\n",
       "      <td>315.0</td>\n",
       "      <td>315.0</td>\n",
       "      <td>314.5</td>\n",
       "      <td>314.5</td>\n",
       "      <td>40</td>\n",
       "    </tr>\n",
       "    <tr>\n",
       "      <th>2020-06-23 09:27:00</th>\n",
       "      <td>315.0</td>\n",
       "      <td>315.0</td>\n",
       "      <td>314.5</td>\n",
       "      <td>314.5</td>\n",
       "      <td>138</td>\n",
       "    </tr>\n",
       "    <tr>\n",
       "      <th>2020-06-23 09:28:00</th>\n",
       "      <td>314.5</td>\n",
       "      <td>315.0</td>\n",
       "      <td>314.0</td>\n",
       "      <td>314.0</td>\n",
       "      <td>108</td>\n",
       "    </tr>\n",
       "    <tr>\n",
       "      <th>2020-06-23 09:29:00</th>\n",
       "      <td>314.5</td>\n",
       "      <td>314.5</td>\n",
       "      <td>313.5</td>\n",
       "      <td>314.0</td>\n",
       "      <td>323</td>\n",
       "    </tr>\n",
       "    <tr>\n",
       "      <th>...</th>\n",
       "      <td>...</td>\n",
       "      <td>...</td>\n",
       "      <td>...</td>\n",
       "      <td>...</td>\n",
       "      <td>...</td>\n",
       "    </tr>\n",
       "    <tr>\n",
       "      <th>2020-06-23 13:01:00</th>\n",
       "      <td>313.0</td>\n",
       "      <td>313.5</td>\n",
       "      <td>313.0</td>\n",
       "      <td>313.5</td>\n",
       "      <td>23</td>\n",
       "    </tr>\n",
       "    <tr>\n",
       "      <th>2020-06-23 13:02:00</th>\n",
       "      <td>313.5</td>\n",
       "      <td>313.5</td>\n",
       "      <td>313.0</td>\n",
       "      <td>313.5</td>\n",
       "      <td>84</td>\n",
       "    </tr>\n",
       "    <tr>\n",
       "      <th>2020-06-23 13:03:00</th>\n",
       "      <td>313.0</td>\n",
       "      <td>313.5</td>\n",
       "      <td>313.0</td>\n",
       "      <td>313.5</td>\n",
       "      <td>81</td>\n",
       "    </tr>\n",
       "    <tr>\n",
       "      <th>2020-06-23 13:04:00</th>\n",
       "      <td>313.0</td>\n",
       "      <td>313.5</td>\n",
       "      <td>313.0</td>\n",
       "      <td>313.0</td>\n",
       "      <td>79</td>\n",
       "    </tr>\n",
       "    <tr>\n",
       "      <th>2020-06-23 13:05:00</th>\n",
       "      <td>313.0</td>\n",
       "      <td>313.5</td>\n",
       "      <td>313.0</td>\n",
       "      <td>313.0</td>\n",
       "      <td>86</td>\n",
       "    </tr>\n",
       "    <tr>\n",
       "      <th>2020-06-23 13:06:00</th>\n",
       "      <td>313.5</td>\n",
       "      <td>313.5</td>\n",
       "      <td>313.0</td>\n",
       "      <td>313.0</td>\n",
       "      <td>118</td>\n",
       "    </tr>\n",
       "    <tr>\n",
       "      <th>2020-06-23 13:07:00</th>\n",
       "      <td>313.5</td>\n",
       "      <td>313.5</td>\n",
       "      <td>313.0</td>\n",
       "      <td>313.0</td>\n",
       "      <td>121</td>\n",
       "    </tr>\n",
       "    <tr>\n",
       "      <th>2020-06-23 13:08:00</th>\n",
       "      <td>313.5</td>\n",
       "      <td>313.5</td>\n",
       "      <td>313.0</td>\n",
       "      <td>313.0</td>\n",
       "      <td>403</td>\n",
       "    </tr>\n",
       "    <tr>\n",
       "      <th>2020-06-23 13:09:00</th>\n",
       "      <td>313.0</td>\n",
       "      <td>313.5</td>\n",
       "      <td>312.5</td>\n",
       "      <td>313.0</td>\n",
       "      <td>179</td>\n",
       "    </tr>\n",
       "    <tr>\n",
       "      <th>2020-06-23 13:10:00</th>\n",
       "      <td>312.5</td>\n",
       "      <td>313.0</td>\n",
       "      <td>312.5</td>\n",
       "      <td>312.5</td>\n",
       "      <td>95</td>\n",
       "    </tr>\n",
       "    <tr>\n",
       "      <th>2020-06-23 13:11:00</th>\n",
       "      <td>313.0</td>\n",
       "      <td>313.0</td>\n",
       "      <td>312.5</td>\n",
       "      <td>312.5</td>\n",
       "      <td>34</td>\n",
       "    </tr>\n",
       "    <tr>\n",
       "      <th>2020-06-23 13:12:00</th>\n",
       "      <td>313.0</td>\n",
       "      <td>313.0</td>\n",
       "      <td>312.5</td>\n",
       "      <td>312.5</td>\n",
       "      <td>34</td>\n",
       "    </tr>\n",
       "    <tr>\n",
       "      <th>2020-06-23 13:13:00</th>\n",
       "      <td>313.0</td>\n",
       "      <td>313.0</td>\n",
       "      <td>312.5</td>\n",
       "      <td>313.0</td>\n",
       "      <td>50</td>\n",
       "    </tr>\n",
       "    <tr>\n",
       "      <th>2020-06-23 13:14:00</th>\n",
       "      <td>313.0</td>\n",
       "      <td>313.0</td>\n",
       "      <td>312.5</td>\n",
       "      <td>313.0</td>\n",
       "      <td>177</td>\n",
       "    </tr>\n",
       "    <tr>\n",
       "      <th>2020-06-23 13:15:00</th>\n",
       "      <td>313.0</td>\n",
       "      <td>313.0</td>\n",
       "      <td>312.5</td>\n",
       "      <td>313.0</td>\n",
       "      <td>101</td>\n",
       "    </tr>\n",
       "    <tr>\n",
       "      <th>2020-06-23 13:16:00</th>\n",
       "      <td>312.5</td>\n",
       "      <td>313.0</td>\n",
       "      <td>312.5</td>\n",
       "      <td>313.0</td>\n",
       "      <td>281</td>\n",
       "    </tr>\n",
       "    <tr>\n",
       "      <th>2020-06-23 13:17:00</th>\n",
       "      <td>313.0</td>\n",
       "      <td>313.5</td>\n",
       "      <td>312.5</td>\n",
       "      <td>313.0</td>\n",
       "      <td>216</td>\n",
       "    </tr>\n",
       "    <tr>\n",
       "      <th>2020-06-23 13:18:00</th>\n",
       "      <td>313.0</td>\n",
       "      <td>313.5</td>\n",
       "      <td>313.0</td>\n",
       "      <td>313.0</td>\n",
       "      <td>65</td>\n",
       "    </tr>\n",
       "    <tr>\n",
       "      <th>2020-06-23 13:19:00</th>\n",
       "      <td>313.5</td>\n",
       "      <td>313.5</td>\n",
       "      <td>313.0</td>\n",
       "      <td>313.0</td>\n",
       "      <td>78</td>\n",
       "    </tr>\n",
       "    <tr>\n",
       "      <th>2020-06-23 13:20:00</th>\n",
       "      <td>313.5</td>\n",
       "      <td>313.5</td>\n",
       "      <td>313.0</td>\n",
       "      <td>313.0</td>\n",
       "      <td>114</td>\n",
       "    </tr>\n",
       "    <tr>\n",
       "      <th>2020-06-23 13:21:00</th>\n",
       "      <td>313.5</td>\n",
       "      <td>313.5</td>\n",
       "      <td>313.0</td>\n",
       "      <td>313.0</td>\n",
       "      <td>121</td>\n",
       "    </tr>\n",
       "    <tr>\n",
       "      <th>2020-06-23 13:22:00</th>\n",
       "      <td>313.0</td>\n",
       "      <td>313.5</td>\n",
       "      <td>313.0</td>\n",
       "      <td>313.0</td>\n",
       "      <td>103</td>\n",
       "    </tr>\n",
       "    <tr>\n",
       "      <th>2020-06-23 13:23:00</th>\n",
       "      <td>313.5</td>\n",
       "      <td>313.5</td>\n",
       "      <td>313.0</td>\n",
       "      <td>313.5</td>\n",
       "      <td>272</td>\n",
       "    </tr>\n",
       "    <tr>\n",
       "      <th>2020-06-23 13:24:00</th>\n",
       "      <td>313.0</td>\n",
       "      <td>314.0</td>\n",
       "      <td>313.0</td>\n",
       "      <td>314.0</td>\n",
       "      <td>165</td>\n",
       "    </tr>\n",
       "    <tr>\n",
       "      <th>2020-06-23 13:25:00</th>\n",
       "      <td>NaN</td>\n",
       "      <td>NaN</td>\n",
       "      <td>NaN</td>\n",
       "      <td>NaN</td>\n",
       "      <td>0</td>\n",
       "    </tr>\n",
       "    <tr>\n",
       "      <th>2020-06-23 13:26:00</th>\n",
       "      <td>NaN</td>\n",
       "      <td>NaN</td>\n",
       "      <td>NaN</td>\n",
       "      <td>NaN</td>\n",
       "      <td>0</td>\n",
       "    </tr>\n",
       "    <tr>\n",
       "      <th>2020-06-23 13:27:00</th>\n",
       "      <td>NaN</td>\n",
       "      <td>NaN</td>\n",
       "      <td>NaN</td>\n",
       "      <td>NaN</td>\n",
       "      <td>0</td>\n",
       "    </tr>\n",
       "    <tr>\n",
       "      <th>2020-06-23 13:28:00</th>\n",
       "      <td>NaN</td>\n",
       "      <td>NaN</td>\n",
       "      <td>NaN</td>\n",
       "      <td>NaN</td>\n",
       "      <td>0</td>\n",
       "    </tr>\n",
       "    <tr>\n",
       "      <th>2020-06-23 13:29:00</th>\n",
       "      <td>NaN</td>\n",
       "      <td>NaN</td>\n",
       "      <td>NaN</td>\n",
       "      <td>NaN</td>\n",
       "      <td>0</td>\n",
       "    </tr>\n",
       "    <tr>\n",
       "      <th>2020-06-23 13:30:00</th>\n",
       "      <td>315.0</td>\n",
       "      <td>315.0</td>\n",
       "      <td>315.0</td>\n",
       "      <td>315.0</td>\n",
       "      <td>3374</td>\n",
       "    </tr>\n",
       "  </tbody>\n",
       "</table>\n",
       "<p>271 rows × 5 columns</p>\n",
       "</div>"
      ],
      "text/plain": [
       "                      open   high    low  close  Volume\n",
       "Datetime                                               \n",
       "2020-06-23 09:00:00  316.0  316.5  315.5  316.0    3162\n",
       "2020-06-23 09:01:00  315.5  316.0  315.5  315.5      94\n",
       "2020-06-23 09:02:00  315.5  316.0  315.5  316.0     150\n",
       "2020-06-23 09:03:00  316.0  316.0  315.5  316.0     664\n",
       "2020-06-23 09:04:00  316.0  316.0  315.5  316.0     591\n",
       "2020-06-23 09:05:00  316.0  316.0  315.5  316.0     251\n",
       "2020-06-23 09:06:00  316.0  316.0  315.5  316.0     117\n",
       "2020-06-23 09:07:00  315.5  316.0  315.5  315.5      72\n",
       "2020-06-23 09:08:00  315.5  316.0  315.5  315.5     101\n",
       "2020-06-23 09:09:00  315.5  316.5  315.5  316.5    1100\n",
       "2020-06-23 09:10:00  316.0  316.5  316.0  316.0     178\n",
       "2020-06-23 09:11:00  316.5  316.5  316.0  316.5     165\n",
       "2020-06-23 09:12:00  316.5  316.5  316.0  316.0      46\n",
       "2020-06-23 09:13:00  316.0  316.5  316.0  316.0      88\n",
       "2020-06-23 09:14:00  316.5  316.5  316.0  316.0     382\n",
       "2020-06-23 09:15:00  316.5  316.5  315.0  315.0    1100\n",
       "2020-06-23 09:16:00  315.5  316.0  315.5  315.5     140\n",
       "2020-06-23 09:17:00  316.0  316.0  315.5  315.5     262\n",
       "2020-06-23 09:18:00  316.0  316.0  315.0  315.5     172\n",
       "2020-06-23 09:19:00  315.5  315.5  315.0  315.0     242\n",
       "2020-06-23 09:20:00  315.0  315.5  314.5  314.5     230\n",
       "2020-06-23 09:21:00  314.5  315.0  314.5  314.5     173\n",
       "2020-06-23 09:22:00  315.0  315.0  314.5  315.0     129\n",
       "2020-06-23 09:23:00  315.0  315.0  314.5  314.5     104\n",
       "2020-06-23 09:24:00  315.0  315.0  314.0  314.5     179\n",
       "2020-06-23 09:25:00  314.0  315.0  314.0  314.5     168\n",
       "2020-06-23 09:26:00  315.0  315.0  314.5  314.5      40\n",
       "2020-06-23 09:27:00  315.0  315.0  314.5  314.5     138\n",
       "2020-06-23 09:28:00  314.5  315.0  314.0  314.0     108\n",
       "2020-06-23 09:29:00  314.5  314.5  313.5  314.0     323\n",
       "...                    ...    ...    ...    ...     ...\n",
       "2020-06-23 13:01:00  313.0  313.5  313.0  313.5      23\n",
       "2020-06-23 13:02:00  313.5  313.5  313.0  313.5      84\n",
       "2020-06-23 13:03:00  313.0  313.5  313.0  313.5      81\n",
       "2020-06-23 13:04:00  313.0  313.5  313.0  313.0      79\n",
       "2020-06-23 13:05:00  313.0  313.5  313.0  313.0      86\n",
       "2020-06-23 13:06:00  313.5  313.5  313.0  313.0     118\n",
       "2020-06-23 13:07:00  313.5  313.5  313.0  313.0     121\n",
       "2020-06-23 13:08:00  313.5  313.5  313.0  313.0     403\n",
       "2020-06-23 13:09:00  313.0  313.5  312.5  313.0     179\n",
       "2020-06-23 13:10:00  312.5  313.0  312.5  312.5      95\n",
       "2020-06-23 13:11:00  313.0  313.0  312.5  312.5      34\n",
       "2020-06-23 13:12:00  313.0  313.0  312.5  312.5      34\n",
       "2020-06-23 13:13:00  313.0  313.0  312.5  313.0      50\n",
       "2020-06-23 13:14:00  313.0  313.0  312.5  313.0     177\n",
       "2020-06-23 13:15:00  313.0  313.0  312.5  313.0     101\n",
       "2020-06-23 13:16:00  312.5  313.0  312.5  313.0     281\n",
       "2020-06-23 13:17:00  313.0  313.5  312.5  313.0     216\n",
       "2020-06-23 13:18:00  313.0  313.5  313.0  313.0      65\n",
       "2020-06-23 13:19:00  313.5  313.5  313.0  313.0      78\n",
       "2020-06-23 13:20:00  313.5  313.5  313.0  313.0     114\n",
       "2020-06-23 13:21:00  313.5  313.5  313.0  313.0     121\n",
       "2020-06-23 13:22:00  313.0  313.5  313.0  313.0     103\n",
       "2020-06-23 13:23:00  313.5  313.5  313.0  313.5     272\n",
       "2020-06-23 13:24:00  313.0  314.0  313.0  314.0     165\n",
       "2020-06-23 13:25:00    NaN    NaN    NaN    NaN       0\n",
       "2020-06-23 13:26:00    NaN    NaN    NaN    NaN       0\n",
       "2020-06-23 13:27:00    NaN    NaN    NaN    NaN       0\n",
       "2020-06-23 13:28:00    NaN    NaN    NaN    NaN       0\n",
       "2020-06-23 13:29:00    NaN    NaN    NaN    NaN       0\n",
       "2020-06-23 13:30:00  315.0  315.0  315.0  315.0    3374\n",
       "\n",
       "[271 rows x 5 columns]"
      ]
     },
     "execution_count": 41,
     "metadata": {},
     "output_type": "execute_result"
    }
   ],
   "source": [
    "df_tick_2330.set_index(\"Datetime\").resample('1min')[\"Close\"].ohlc().join(\n",
    "    df_tick_2330.set_index(\"Datetime\").resample('1min')[[\"Volume\"]].sum()\n",
    ")"
   ]
  },
  {
   "cell_type": "markdown",
   "metadata": {},
   "source": [
    "### How about multi symbol resample and aggregation?\n",
    "### Why not use QuoteManager and put all the trading algo into it?"
   ]
  }
 ],
 "metadata": {
  "kernelspec": {
   "display_name": "Python 3",
   "language": "python",
   "name": "python3"
  },
  "language_info": {
   "codemirror_mode": {
    "name": "ipython",
    "version": 3
   },
   "file_extension": ".py",
   "mimetype": "text/x-python",
   "name": "python",
   "nbconvert_exporter": "python",
   "pygments_lexer": "ipython3",
   "version": "3.7.0"
  }
 },
 "nbformat": 4,
 "nbformat_minor": 4
}
