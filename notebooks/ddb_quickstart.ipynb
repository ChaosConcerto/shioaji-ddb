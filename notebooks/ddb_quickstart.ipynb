{
 "cells": [
  {
   "cell_type": "markdown",
   "metadata": {},
   "source": [
    "## Dolphindb Quickstart"
   ]
  },
  {
   "cell_type": "code",
   "execution_count": 1,
   "metadata": {},
   "outputs": [],
   "source": [
    "import datetime\n",
    "import dolphindb\n",
    "import shioaji as sj\n",
    "import pandas as pd"
   ]
  },
  {
   "cell_type": "code",
   "execution_count": 2,
   "metadata": {},
   "outputs": [],
   "source": [
    "import json\n",
    "with open(\"login.json\", \"r\") as f:\n",
    "    login_kwargs = json.loads(f.read())"
   ]
  },
  {
   "cell_type": "code",
   "execution_count": 3,
   "metadata": {},
   "outputs": [
    {
     "name": "stdout",
     "output_type": "stream",
     "text": [
      "Response Code: 0 | Event Code: 0 | Info: host '203.66.91.161:80', IP 203.66.91.161:80 (host 1 of 1) (host connection attempt 1 of 1) (total connection attempt 1 of 1) | Event: Session up\n",
      "SecurityType.Index\n",
      "SecurityType.Future\n",
      "SecurityType.Option\n",
      "SecurityType.Stock\n"
     ]
    }
   ],
   "source": [
    "api = sj.Shioaji()\n",
    "accounts = api.login(**login_kwargs, contracts_cb=print)"
   ]
  },
  {
   "cell_type": "code",
   "execution_count": 4,
   "metadata": {},
   "outputs": [
    {
     "data": {
      "text/plain": [
       "True"
      ]
     },
     "execution_count": 4,
     "metadata": {},
     "output_type": "execute_result"
    }
   ],
   "source": [
    "ddb = dolphindb.session()\n",
    "ddb.connect(\"localhost\", 8828, \"admin\", \"123456\")"
   ]
  },
  {
   "cell_type": "markdown",
   "metadata": {},
   "source": [
    "### Use sj to fetch today tick data"
   ]
  },
  {
   "cell_type": "code",
   "execution_count": 5,
   "metadata": {},
   "outputs": [],
   "source": [
    "contract = api.Contracts.Stocks[\"2330\"]"
   ]
  },
  {
   "cell_type": "code",
   "execution_count": 6,
   "metadata": {},
   "outputs": [],
   "source": [
    "ticks = api.ticks(contract)"
   ]
  },
  {
   "cell_type": "code",
   "execution_count": 7,
   "metadata": {},
   "outputs": [
    {
     "data": {
      "text/html": [
       "<div>\n",
       "<style scoped>\n",
       "    .dataframe tbody tr th:only-of-type {\n",
       "        vertical-align: middle;\n",
       "    }\n",
       "\n",
       "    .dataframe tbody tr th {\n",
       "        vertical-align: top;\n",
       "    }\n",
       "\n",
       "    .dataframe thead th {\n",
       "        text-align: right;\n",
       "    }\n",
       "</style>\n",
       "<table border=\"1\" class=\"dataframe\">\n",
       "  <thead>\n",
       "    <tr style=\"text-align: right;\">\n",
       "      <th></th>\n",
       "      <th>bid_price</th>\n",
       "      <th>ts</th>\n",
       "      <th>close</th>\n",
       "      <th>volume</th>\n",
       "      <th>bid_volume</th>\n",
       "      <th>ask_price</th>\n",
       "      <th>ask_volume</th>\n",
       "    </tr>\n",
       "  </thead>\n",
       "  <tbody>\n",
       "    <tr>\n",
       "      <th>0</th>\n",
       "      <td>318.5</td>\n",
       "      <td>2020-06-24 09:00:01.116046</td>\n",
       "      <td>319.0</td>\n",
       "      <td>3027</td>\n",
       "      <td>482</td>\n",
       "      <td>319.0</td>\n",
       "      <td>756</td>\n",
       "    </tr>\n",
       "    <tr>\n",
       "      <th>1</th>\n",
       "      <td>318.5</td>\n",
       "      <td>2020-06-24 09:00:01.949696</td>\n",
       "      <td>318.5</td>\n",
       "      <td>1</td>\n",
       "      <td>508</td>\n",
       "      <td>319.0</td>\n",
       "      <td>823</td>\n",
       "    </tr>\n",
       "    <tr>\n",
       "      <th>2</th>\n",
       "      <td>318.5</td>\n",
       "      <td>2020-06-24 09:00:02.068738</td>\n",
       "      <td>318.5</td>\n",
       "      <td>3</td>\n",
       "      <td>505</td>\n",
       "      <td>319.0</td>\n",
       "      <td>823</td>\n",
       "    </tr>\n",
       "    <tr>\n",
       "      <th>3</th>\n",
       "      <td>318.5</td>\n",
       "      <td>2020-06-24 09:00:02.071996</td>\n",
       "      <td>319.0</td>\n",
       "      <td>1</td>\n",
       "      <td>505</td>\n",
       "      <td>319.0</td>\n",
       "      <td>822</td>\n",
       "    </tr>\n",
       "    <tr>\n",
       "      <th>4</th>\n",
       "      <td>318.5</td>\n",
       "      <td>2020-06-24 09:00:02.087298</td>\n",
       "      <td>318.5</td>\n",
       "      <td>1</td>\n",
       "      <td>504</td>\n",
       "      <td>319.0</td>\n",
       "      <td>822</td>\n",
       "    </tr>\n",
       "  </tbody>\n",
       "</table>\n",
       "</div>"
      ],
      "text/plain": [
       "   bid_price                         ts  close  volume  bid_volume  ask_price  \\\n",
       "0      318.5 2020-06-24 09:00:01.116046  319.0    3027         482      319.0   \n",
       "1      318.5 2020-06-24 09:00:01.949696  318.5       1         508      319.0   \n",
       "2      318.5 2020-06-24 09:00:02.068738  318.5       3         505      319.0   \n",
       "3      318.5 2020-06-24 09:00:02.071996  319.0       1         505      319.0   \n",
       "4      318.5 2020-06-24 09:00:02.087298  318.5       1         504      319.0   \n",
       "\n",
       "   ask_volume  \n",
       "0         756  \n",
       "1         823  \n",
       "2         823  \n",
       "3         822  \n",
       "4         822  "
      ]
     },
     "execution_count": 7,
     "metadata": {},
     "output_type": "execute_result"
    }
   ],
   "source": [
    "df = pd.DataFrame({**ticks})\n",
    "df[\"ts\"] = pd.to_datetime(df[\"ts\"])\n",
    "df.head()"
   ]
  },
  {
   "cell_type": "markdown",
   "metadata": {},
   "source": [
    "### upload dataframe to dolphindb memory"
   ]
  },
  {
   "cell_type": "code",
   "execution_count": 8,
   "metadata": {},
   "outputs": [],
   "source": [
    "ddb.upload({\"ddb_table\": df})"
   ]
  },
  {
   "cell_type": "markdown",
   "metadata": {},
   "source": [
    "### query ddb table back to python as dataframe"
   ]
  },
  {
   "cell_type": "code",
   "execution_count": 9,
   "metadata": {},
   "outputs": [
    {
     "data": {
      "text/html": [
       "<div>\n",
       "<style scoped>\n",
       "    .dataframe tbody tr th:only-of-type {\n",
       "        vertical-align: middle;\n",
       "    }\n",
       "\n",
       "    .dataframe tbody tr th {\n",
       "        vertical-align: top;\n",
       "    }\n",
       "\n",
       "    .dataframe thead th {\n",
       "        text-align: right;\n",
       "    }\n",
       "</style>\n",
       "<table border=\"1\" class=\"dataframe\">\n",
       "  <thead>\n",
       "    <tr style=\"text-align: right;\">\n",
       "      <th></th>\n",
       "      <th>bid_price</th>\n",
       "      <th>ts</th>\n",
       "      <th>close</th>\n",
       "      <th>volume</th>\n",
       "      <th>bid_volume</th>\n",
       "      <th>ask_price</th>\n",
       "      <th>ask_volume</th>\n",
       "    </tr>\n",
       "  </thead>\n",
       "  <tbody>\n",
       "    <tr>\n",
       "      <th>0</th>\n",
       "      <td>318.5</td>\n",
       "      <td>2020-06-24 09:00:01.116046</td>\n",
       "      <td>319.0</td>\n",
       "      <td>3027</td>\n",
       "      <td>482</td>\n",
       "      <td>319.0</td>\n",
       "      <td>756</td>\n",
       "    </tr>\n",
       "    <tr>\n",
       "      <th>1</th>\n",
       "      <td>318.5</td>\n",
       "      <td>2020-06-24 09:00:01.949696</td>\n",
       "      <td>318.5</td>\n",
       "      <td>1</td>\n",
       "      <td>508</td>\n",
       "      <td>319.0</td>\n",
       "      <td>823</td>\n",
       "    </tr>\n",
       "    <tr>\n",
       "      <th>2</th>\n",
       "      <td>318.5</td>\n",
       "      <td>2020-06-24 09:00:02.068738</td>\n",
       "      <td>318.5</td>\n",
       "      <td>3</td>\n",
       "      <td>505</td>\n",
       "      <td>319.0</td>\n",
       "      <td>823</td>\n",
       "    </tr>\n",
       "    <tr>\n",
       "      <th>3</th>\n",
       "      <td>318.5</td>\n",
       "      <td>2020-06-24 09:00:02.071996</td>\n",
       "      <td>319.0</td>\n",
       "      <td>1</td>\n",
       "      <td>505</td>\n",
       "      <td>319.0</td>\n",
       "      <td>822</td>\n",
       "    </tr>\n",
       "    <tr>\n",
       "      <th>4</th>\n",
       "      <td>318.5</td>\n",
       "      <td>2020-06-24 09:00:02.087298</td>\n",
       "      <td>318.5</td>\n",
       "      <td>1</td>\n",
       "      <td>504</td>\n",
       "      <td>319.0</td>\n",
       "      <td>822</td>\n",
       "    </tr>\n",
       "  </tbody>\n",
       "</table>\n",
       "</div>"
      ],
      "text/plain": [
       "   bid_price                         ts  close  volume  bid_volume  ask_price  \\\n",
       "0      318.5 2020-06-24 09:00:01.116046  319.0    3027         482      319.0   \n",
       "1      318.5 2020-06-24 09:00:01.949696  318.5       1         508      319.0   \n",
       "2      318.5 2020-06-24 09:00:02.068738  318.5       3         505      319.0   \n",
       "3      318.5 2020-06-24 09:00:02.071996  319.0       1         505      319.0   \n",
       "4      318.5 2020-06-24 09:00:02.087298  318.5       1         504      319.0   \n",
       "\n",
       "   ask_volume  \n",
       "0         756  \n",
       "1         823  \n",
       "2         823  \n",
       "3         822  \n",
       "4         822  "
      ]
     },
     "execution_count": 9,
     "metadata": {},
     "output_type": "execute_result"
    }
   ],
   "source": [
    "ddb.run(\"\"\"\n",
    "select top 5 * from ddb_table\n",
    "\"\"\")"
   ]
  },
  {
   "cell_type": "markdown",
   "metadata": {},
   "source": [
    "### create dolphindb table"
   ]
  },
  {
   "cell_type": "code",
   "execution_count": 32,
   "metadata": {},
   "outputs": [],
   "source": [
    "CREATE_TABLE = \"\"\"\n",
    "ticks_db = database(\"dfs://ticks\", VALUE, 2020.06.23..2020.06.24)\n",
    "ticks_table = table(\n",
    "    array(DATE, 0) as Date,\n",
    "    array(TIME, 0) as Time,\n",
    "    array(SYMBOL, 0) as Code,\n",
    "    array(DOUBLE, 0) as Price,\n",
    "    array(LONG, 0) as Volume,\n",
    "    array(DOUBLE, 0) as AskPrice,\n",
    "    array(LONG, 0) as AskVolume,\n",
    "    array(DOUBLE, 0) as BidPrice,\n",
    "    array(LONG, 0) as BidVolume\n",
    ")\n",
    "ticks_db.createPartitionedTable(ticks_table, `ticks_table, `Date)\n",
    "\"\"\""
   ]
  },
  {
   "cell_type": "code",
   "execution_count": 33,
   "metadata": {},
   "outputs": [
    {
     "data": {
      "text/html": [
       "<div>\n",
       "<style scoped>\n",
       "    .dataframe tbody tr th:only-of-type {\n",
       "        vertical-align: middle;\n",
       "    }\n",
       "\n",
       "    .dataframe tbody tr th {\n",
       "        vertical-align: top;\n",
       "    }\n",
       "\n",
       "    .dataframe thead th {\n",
       "        text-align: right;\n",
       "    }\n",
       "</style>\n",
       "<table border=\"1\" class=\"dataframe\">\n",
       "  <thead>\n",
       "    <tr style=\"text-align: right;\">\n",
       "      <th></th>\n",
       "      <th>Date</th>\n",
       "      <th>Time</th>\n",
       "      <th>Code</th>\n",
       "      <th>Price</th>\n",
       "      <th>Volume</th>\n",
       "      <th>AskPrice</th>\n",
       "      <th>AskVolume</th>\n",
       "      <th>BidPrice</th>\n",
       "      <th>BidVolume</th>\n",
       "    </tr>\n",
       "  </thead>\n",
       "  <tbody>\n",
       "  </tbody>\n",
       "</table>\n",
       "</div>"
      ],
      "text/plain": [
       "Empty DataFrame\n",
       "Columns: [Date, Time, Code, Price, Volume, AskPrice, AskVolume, BidPrice, BidVolume]\n",
       "Index: []"
      ]
     },
     "execution_count": 33,
     "metadata": {},
     "output_type": "execute_result"
    }
   ],
   "source": [
    "ddb.run(CREATE_TABLE)"
   ]
  },
  {
   "cell_type": "markdown",
   "metadata": {},
   "source": [
    "### load table and insert data"
   ]
  },
  {
   "cell_type": "code",
   "execution_count": 10,
   "metadata": {},
   "outputs": [],
   "source": [
    "LOAD_TABLE = \"\"\"\n",
    "ticks_table = loadTable(\"dfs://ticks\",`ticks_table)\n",
    "ticks_table\n",
    "\"\"\""
   ]
  },
  {
   "cell_type": "code",
   "execution_count": 11,
   "metadata": {},
   "outputs": [
    {
     "data": {
      "text/html": [
       "<div>\n",
       "<style scoped>\n",
       "    .dataframe tbody tr th:only-of-type {\n",
       "        vertical-align: middle;\n",
       "    }\n",
       "\n",
       "    .dataframe tbody tr th {\n",
       "        vertical-align: top;\n",
       "    }\n",
       "\n",
       "    .dataframe thead th {\n",
       "        text-align: right;\n",
       "    }\n",
       "</style>\n",
       "<table border=\"1\" class=\"dataframe\">\n",
       "  <thead>\n",
       "    <tr style=\"text-align: right;\">\n",
       "      <th></th>\n",
       "      <th>Date</th>\n",
       "      <th>Time</th>\n",
       "      <th>Code</th>\n",
       "      <th>Price</th>\n",
       "      <th>Volume</th>\n",
       "      <th>AskPrice</th>\n",
       "      <th>AskVolume</th>\n",
       "      <th>BidPrice</th>\n",
       "      <th>BidVolume</th>\n",
       "    </tr>\n",
       "  </thead>\n",
       "  <tbody>\n",
       "  </tbody>\n",
       "</table>\n",
       "</div>"
      ],
      "text/plain": [
       "Empty DataFrame\n",
       "Columns: [Date, Time, Code, Price, Volume, AskPrice, AskVolume, BidPrice, BidVolume]\n",
       "Index: []"
      ]
     },
     "execution_count": 11,
     "metadata": {},
     "output_type": "execute_result"
    }
   ],
   "source": [
    "ddb.run(LOAD_TABLE)"
   ]
  },
  {
   "cell_type": "code",
   "execution_count": 12,
   "metadata": {},
   "outputs": [],
   "source": [
    "ddb.upload({\"df\": df})"
   ]
  },
  {
   "cell_type": "code",
   "execution_count": 13,
   "metadata": {},
   "outputs": [
    {
     "data": {
      "text/html": [
       "<div>\n",
       "<style scoped>\n",
       "    .dataframe tbody tr th:only-of-type {\n",
       "        vertical-align: middle;\n",
       "    }\n",
       "\n",
       "    .dataframe tbody tr th {\n",
       "        vertical-align: top;\n",
       "    }\n",
       "\n",
       "    .dataframe thead th {\n",
       "        text-align: right;\n",
       "    }\n",
       "</style>\n",
       "<table border=\"1\" class=\"dataframe\">\n",
       "  <thead>\n",
       "    <tr style=\"text-align: right;\">\n",
       "      <th></th>\n",
       "      <th>Date</th>\n",
       "      <th>Time</th>\n",
       "      <th>Code</th>\n",
       "      <th>Price</th>\n",
       "      <th>volume</th>\n",
       "      <th>ask_price</th>\n",
       "      <th>ask_volume</th>\n",
       "      <th>bid_price</th>\n",
       "      <th>bid_volume</th>\n",
       "    </tr>\n",
       "  </thead>\n",
       "  <tbody>\n",
       "    <tr>\n",
       "      <th>0</th>\n",
       "      <td>2020-06-24</td>\n",
       "      <td>1970-01-01 09:00:01.116</td>\n",
       "      <td>2330</td>\n",
       "      <td>319.0</td>\n",
       "      <td>3027</td>\n",
       "      <td>319.0</td>\n",
       "      <td>756</td>\n",
       "      <td>318.5</td>\n",
       "      <td>482</td>\n",
       "    </tr>\n",
       "    <tr>\n",
       "      <th>1</th>\n",
       "      <td>2020-06-24</td>\n",
       "      <td>1970-01-01 09:00:01.949</td>\n",
       "      <td>2330</td>\n",
       "      <td>318.5</td>\n",
       "      <td>1</td>\n",
       "      <td>319.0</td>\n",
       "      <td>823</td>\n",
       "      <td>318.5</td>\n",
       "      <td>508</td>\n",
       "    </tr>\n",
       "    <tr>\n",
       "      <th>2</th>\n",
       "      <td>2020-06-24</td>\n",
       "      <td>1970-01-01 09:00:02.068</td>\n",
       "      <td>2330</td>\n",
       "      <td>318.5</td>\n",
       "      <td>3</td>\n",
       "      <td>319.0</td>\n",
       "      <td>823</td>\n",
       "      <td>318.5</td>\n",
       "      <td>505</td>\n",
       "    </tr>\n",
       "    <tr>\n",
       "      <th>3</th>\n",
       "      <td>2020-06-24</td>\n",
       "      <td>1970-01-01 09:00:02.071</td>\n",
       "      <td>2330</td>\n",
       "      <td>319.0</td>\n",
       "      <td>1</td>\n",
       "      <td>319.0</td>\n",
       "      <td>822</td>\n",
       "      <td>318.5</td>\n",
       "      <td>505</td>\n",
       "    </tr>\n",
       "    <tr>\n",
       "      <th>4</th>\n",
       "      <td>2020-06-24</td>\n",
       "      <td>1970-01-01 09:00:02.087</td>\n",
       "      <td>2330</td>\n",
       "      <td>318.5</td>\n",
       "      <td>1</td>\n",
       "      <td>319.0</td>\n",
       "      <td>822</td>\n",
       "      <td>318.5</td>\n",
       "      <td>504</td>\n",
       "    </tr>\n",
       "  </tbody>\n",
       "</table>\n",
       "</div>"
      ],
      "text/plain": [
       "        Date                    Time  Code  Price  volume  ask_price  \\\n",
       "0 2020-06-24 1970-01-01 09:00:01.116  2330  319.0    3027      319.0   \n",
       "1 2020-06-24 1970-01-01 09:00:01.949  2330  318.5       1      319.0   \n",
       "2 2020-06-24 1970-01-01 09:00:02.068  2330  318.5       3      319.0   \n",
       "3 2020-06-24 1970-01-01 09:00:02.071  2330  319.0       1      319.0   \n",
       "4 2020-06-24 1970-01-01 09:00:02.087  2330  318.5       1      319.0   \n",
       "\n",
       "   ask_volume  bid_price  bid_volume  \n",
       "0         756      318.5         482  \n",
       "1         823      318.5         508  \n",
       "2         823      318.5         505  \n",
       "3         822      318.5         505  \n",
       "4         822      318.5         504  "
      ]
     },
     "execution_count": 13,
     "metadata": {},
     "output_type": "execute_result"
    }
   ],
   "source": [
    "ddb.run(f\"\"\"\n",
    "select date(ts) as Date, time(ts) as Time, \n",
    "       \"{contract.code}\" as Code, close as Price,\n",
    "       volume, ask_price, ask_volume, \n",
    "       bid_price, bid_volume from df\n",
    "\"\"\").head()"
   ]
  },
  {
   "cell_type": "code",
   "execution_count": 49,
   "metadata": {},
   "outputs": [],
   "source": [
    "ddb.run(f\"\"\"\n",
    "ticks_table.append!(select date(ts) as Date, time(ts) as Time, \n",
    "       \"{contract.code}\" as Code, close as Price,\n",
    "       volume, ask_price, ask_volume, \n",
    "       bid_price, bid_volume from df)\n",
    "\"\"\")"
   ]
  },
  {
   "cell_type": "markdown",
   "metadata": {},
   "source": [
    "### query table"
   ]
  },
  {
   "cell_type": "code",
   "execution_count": 14,
   "metadata": {},
   "outputs": [
    {
     "data": {
      "text/html": [
       "<div>\n",
       "<style scoped>\n",
       "    .dataframe tbody tr th:only-of-type {\n",
       "        vertical-align: middle;\n",
       "    }\n",
       "\n",
       "    .dataframe tbody tr th {\n",
       "        vertical-align: top;\n",
       "    }\n",
       "\n",
       "    .dataframe thead th {\n",
       "        text-align: right;\n",
       "    }\n",
       "</style>\n",
       "<table border=\"1\" class=\"dataframe\">\n",
       "  <thead>\n",
       "    <tr style=\"text-align: right;\">\n",
       "      <th></th>\n",
       "      <th>DateTime</th>\n",
       "      <th>Code</th>\n",
       "      <th>Price</th>\n",
       "      <th>Volume</th>\n",
       "      <th>AskPrice</th>\n",
       "      <th>AskVolume</th>\n",
       "      <th>BidPrice</th>\n",
       "      <th>BidVolume</th>\n",
       "    </tr>\n",
       "  </thead>\n",
       "  <tbody>\n",
       "    <tr>\n",
       "      <th>0</th>\n",
       "      <td>2020-06-23 09:00:00.963</td>\n",
       "      <td>2330</td>\n",
       "      <td>316.0</td>\n",
       "      <td>2586</td>\n",
       "      <td>316.5</td>\n",
       "      <td>793</td>\n",
       "      <td>316.0</td>\n",
       "      <td>14</td>\n",
       "    </tr>\n",
       "    <tr>\n",
       "      <th>1</th>\n",
       "      <td>2020-06-23 09:00:00.986</td>\n",
       "      <td>2330</td>\n",
       "      <td>316.0</td>\n",
       "      <td>1</td>\n",
       "      <td>316.5</td>\n",
       "      <td>793</td>\n",
       "      <td>316.0</td>\n",
       "      <td>13</td>\n",
       "    </tr>\n",
       "    <tr>\n",
       "      <th>2</th>\n",
       "      <td>2020-06-23 09:00:01.084</td>\n",
       "      <td>2330</td>\n",
       "      <td>316.0</td>\n",
       "      <td>10</td>\n",
       "      <td>316.5</td>\n",
       "      <td>814</td>\n",
       "      <td>316.0</td>\n",
       "      <td>3</td>\n",
       "    </tr>\n",
       "    <tr>\n",
       "      <th>3</th>\n",
       "      <td>2020-06-23 09:00:01.170</td>\n",
       "      <td>2330</td>\n",
       "      <td>316.0</td>\n",
       "      <td>2</td>\n",
       "      <td>316.5</td>\n",
       "      <td>814</td>\n",
       "      <td>316.0</td>\n",
       "      <td>1</td>\n",
       "    </tr>\n",
       "    <tr>\n",
       "      <th>4</th>\n",
       "      <td>2020-06-23 09:00:01.588</td>\n",
       "      <td>2330</td>\n",
       "      <td>316.0</td>\n",
       "      <td>2</td>\n",
       "      <td>316.5</td>\n",
       "      <td>811</td>\n",
       "      <td>316.0</td>\n",
       "      <td>125</td>\n",
       "    </tr>\n",
       "  </tbody>\n",
       "</table>\n",
       "</div>"
      ],
      "text/plain": [
       "                 DateTime  Code  Price  Volume  AskPrice  AskVolume  BidPrice  \\\n",
       "0 2020-06-23 09:00:00.963  2330  316.0    2586     316.5        793     316.0   \n",
       "1 2020-06-23 09:00:00.986  2330  316.0       1     316.5        793     316.0   \n",
       "2 2020-06-23 09:00:01.084  2330  316.0      10     316.5        814     316.0   \n",
       "3 2020-06-23 09:00:01.170  2330  316.0       2     316.5        814     316.0   \n",
       "4 2020-06-23 09:00:01.588  2330  316.0       2     316.5        811     316.0   \n",
       "\n",
       "   BidVolume  \n",
       "0         14  \n",
       "1         13  \n",
       "2          3  \n",
       "3          1  \n",
       "4        125  "
      ]
     },
     "execution_count": 14,
     "metadata": {},
     "output_type": "execute_result"
    }
   ],
   "source": [
    "ddb.run(\"\"\"\n",
    "select concatDateTime(Date, Time) as DateTime, \n",
    "       Code, Price, Volume, AskPrice, AskVolume, \n",
    "       BidPrice, BidVolume from ticks_table\n",
    "\"\"\").head()"
   ]
  },
  {
   "cell_type": "markdown",
   "metadata": {},
   "source": [
    "### streaming table"
   ]
  },
  {
   "cell_type": "code",
   "execution_count": 45,
   "metadata": {},
   "outputs": [],
   "source": [
    "STREAM_TABLE = \"\"\"\n",
    "ticks_streaming_schema = streamTable(\n",
    "    array(DATE, 0) as Date,\n",
    "    array(TIME, 0) as Time,\n",
    "    array(SYMBOL, 0) as Code,\n",
    "    array(DOUBLE, 0) as Price,\n",
    "    array(LONG, 0) as Volume,\n",
    "    array(DOUBLE, 0) as AskPrice,\n",
    "    array(LONG, 0) as AskVolume,\n",
    "    array(DOUBLE, 0) as BidPrice,\n",
    "    array(LONG, 0) as BidVolume\n",
    ")\n",
    "enableTableShareAndPersistence(table=ticks_streaming_schema,\n",
    "    asynWrite=true, compress=false, \n",
    "    cacheSize=50000, tableName=\"StreamTicks\")\n",
    "undef(`ticks_streaming_schema)\n",
    "\"\"\""
   ]
  },
  {
   "cell_type": "code",
   "execution_count": 46,
   "metadata": {},
   "outputs": [],
   "source": [
    "ddb.run(STREAM_TABLE)"
   ]
  },
  {
   "cell_type": "code",
   "execution_count": 44,
   "metadata": {},
   "outputs": [],
   "source": [
    "# ddb.run(\"dropStreamTable(`StreamTicks)\")"
   ]
  },
  {
   "cell_type": "code",
   "execution_count": 47,
   "metadata": {},
   "outputs": [
    {
     "data": {
      "text/html": [
       "<div>\n",
       "<style scoped>\n",
       "    .dataframe tbody tr th:only-of-type {\n",
       "        vertical-align: middle;\n",
       "    }\n",
       "\n",
       "    .dataframe tbody tr th {\n",
       "        vertical-align: top;\n",
       "    }\n",
       "\n",
       "    .dataframe thead th {\n",
       "        text-align: right;\n",
       "    }\n",
       "</style>\n",
       "<table border=\"1\" class=\"dataframe\">\n",
       "  <thead>\n",
       "    <tr style=\"text-align: right;\">\n",
       "      <th></th>\n",
       "      <th>Date</th>\n",
       "      <th>Time</th>\n",
       "      <th>Code</th>\n",
       "      <th>Price</th>\n",
       "      <th>Volume</th>\n",
       "      <th>AskPrice</th>\n",
       "      <th>AskVolume</th>\n",
       "      <th>BidPrice</th>\n",
       "      <th>BidVolume</th>\n",
       "    </tr>\n",
       "  </thead>\n",
       "  <tbody>\n",
       "  </tbody>\n",
       "</table>\n",
       "</div>"
      ],
      "text/plain": [
       "Empty DataFrame\n",
       "Columns: [Date, Time, Code, Price, Volume, AskPrice, AskVolume, BidPrice, BidVolume]\n",
       "Index: []"
      ]
     },
     "execution_count": 47,
     "metadata": {},
     "output_type": "execute_result"
    }
   ],
   "source": [
    "ddb.run(\"select * from StreamTicks\")"
   ]
  },
  {
   "cell_type": "markdown",
   "metadata": {},
   "source": [
    "### subscribe stream table"
   ]
  },
  {
   "cell_type": "code",
   "execution_count": 18,
   "metadata": {},
   "outputs": [
    {
     "data": {
      "text/plain": [
       "'localhost:8848:local8848/StreamTicks/Ticks_to_dfs'"
      ]
     },
     "execution_count": 18,
     "metadata": {},
     "output_type": "execute_result"
    }
   ],
   "source": [
    "ddb.run(\"\"\"\n",
    "subscribeTable(,`StreamTicks, \"Ticks_to_dfs\", -1, ticks_table, true)\n",
    "\"\"\")"
   ]
  },
  {
   "cell_type": "code",
   "execution_count": 48,
   "metadata": {},
   "outputs": [],
   "source": [
    "def handler(data: pd.DataFrame):\n",
    "    print(data)"
   ]
  },
  {
   "cell_type": "code",
   "execution_count": 50,
   "metadata": {},
   "outputs": [],
   "source": [
    "ddb.enableStreaming(6543)"
   ]
  },
  {
   "cell_type": "code",
   "execution_count": 53,
   "metadata": {},
   "outputs": [],
   "source": [
    "ddb.subscribe(\"127.0.0.1\", 8828, handler, \"StreamTicks\", \"PythonSub\", msgAsTable=True)"
   ]
  },
  {
   "cell_type": "code",
   "execution_count": 52,
   "metadata": {},
   "outputs": [],
   "source": [
    "# ddb.unsubscribe(\"127.0.0.1\", 8828, \"StreamTicks\", \"PythonSub\")"
   ]
  },
  {
   "cell_type": "markdown",
   "metadata": {},
   "source": [
    "### push streaming data into stream table"
   ]
  },
  {
   "cell_type": "code",
   "execution_count": 54,
   "metadata": {},
   "outputs": [],
   "source": [
    "for i in range(10):\n",
    "    ddb.upload({\"df\": df.iloc[i: i+1]})\n",
    "    ddb.run(f\"\"\"\n",
    "    objByName('StreamTicks').append!(select date(ts) as Date, time(ts) as Time, \n",
    "       \"{contract.code}\" as Code, close as Price,\n",
    "       volume, ask_price, ask_volume, \n",
    "       bid_price, bid_volume from df)\n",
    "    \"\"\")"
   ]
  },
  {
   "cell_type": "code",
   "execution_count": 55,
   "metadata": {},
   "outputs": [
    {
     "data": {
      "text/html": [
       "<div>\n",
       "<style scoped>\n",
       "    .dataframe tbody tr th:only-of-type {\n",
       "        vertical-align: middle;\n",
       "    }\n",
       "\n",
       "    .dataframe tbody tr th {\n",
       "        vertical-align: top;\n",
       "    }\n",
       "\n",
       "    .dataframe thead th {\n",
       "        text-align: right;\n",
       "    }\n",
       "</style>\n",
       "<table border=\"1\" class=\"dataframe\">\n",
       "  <thead>\n",
       "    <tr style=\"text-align: right;\">\n",
       "      <th></th>\n",
       "      <th>Date</th>\n",
       "      <th>Time</th>\n",
       "      <th>Code</th>\n",
       "      <th>Price</th>\n",
       "      <th>Volume</th>\n",
       "      <th>AskPrice</th>\n",
       "      <th>AskVolume</th>\n",
       "      <th>BidPrice</th>\n",
       "      <th>BidVolume</th>\n",
       "    </tr>\n",
       "  </thead>\n",
       "  <tbody>\n",
       "    <tr>\n",
       "      <th>0</th>\n",
       "      <td>2020-06-24</td>\n",
       "      <td>1970-01-01 09:00:01.116</td>\n",
       "      <td>2330</td>\n",
       "      <td>319.0</td>\n",
       "      <td>3027</td>\n",
       "      <td>319.0</td>\n",
       "      <td>756</td>\n",
       "      <td>318.5</td>\n",
       "      <td>482</td>\n",
       "    </tr>\n",
       "    <tr>\n",
       "      <th>1</th>\n",
       "      <td>2020-06-24</td>\n",
       "      <td>1970-01-01 09:00:01.949</td>\n",
       "      <td>2330</td>\n",
       "      <td>318.5</td>\n",
       "      <td>1</td>\n",
       "      <td>319.0</td>\n",
       "      <td>823</td>\n",
       "      <td>318.5</td>\n",
       "      <td>508</td>\n",
       "    </tr>\n",
       "    <tr>\n",
       "      <th>2</th>\n",
       "      <td>2020-06-24</td>\n",
       "      <td>1970-01-01 09:00:02.068</td>\n",
       "      <td>2330</td>\n",
       "      <td>318.5</td>\n",
       "      <td>3</td>\n",
       "      <td>319.0</td>\n",
       "      <td>823</td>\n",
       "      <td>318.5</td>\n",
       "      <td>505</td>\n",
       "    </tr>\n",
       "    <tr>\n",
       "      <th>3</th>\n",
       "      <td>2020-06-24</td>\n",
       "      <td>1970-01-01 09:00:02.071</td>\n",
       "      <td>2330</td>\n",
       "      <td>319.0</td>\n",
       "      <td>1</td>\n",
       "      <td>319.0</td>\n",
       "      <td>822</td>\n",
       "      <td>318.5</td>\n",
       "      <td>505</td>\n",
       "    </tr>\n",
       "    <tr>\n",
       "      <th>4</th>\n",
       "      <td>2020-06-24</td>\n",
       "      <td>1970-01-01 09:00:02.087</td>\n",
       "      <td>2330</td>\n",
       "      <td>318.5</td>\n",
       "      <td>1</td>\n",
       "      <td>319.0</td>\n",
       "      <td>822</td>\n",
       "      <td>318.5</td>\n",
       "      <td>504</td>\n",
       "    </tr>\n",
       "    <tr>\n",
       "      <th>5</th>\n",
       "      <td>2020-06-24</td>\n",
       "      <td>1970-01-01 09:00:02.120</td>\n",
       "      <td>2330</td>\n",
       "      <td>318.5</td>\n",
       "      <td>5</td>\n",
       "      <td>319.0</td>\n",
       "      <td>822</td>\n",
       "      <td>318.5</td>\n",
       "      <td>499</td>\n",
       "    </tr>\n",
       "    <tr>\n",
       "      <th>6</th>\n",
       "      <td>2020-06-24</td>\n",
       "      <td>1970-01-01 09:00:02.292</td>\n",
       "      <td>2330</td>\n",
       "      <td>318.5</td>\n",
       "      <td>1</td>\n",
       "      <td>319.0</td>\n",
       "      <td>822</td>\n",
       "      <td>318.5</td>\n",
       "      <td>498</td>\n",
       "    </tr>\n",
       "    <tr>\n",
       "      <th>7</th>\n",
       "      <td>2020-06-24</td>\n",
       "      <td>1970-01-01 09:00:02.889</td>\n",
       "      <td>2330</td>\n",
       "      <td>319.0</td>\n",
       "      <td>54</td>\n",
       "      <td>319.0</td>\n",
       "      <td>767</td>\n",
       "      <td>318.5</td>\n",
       "      <td>498</td>\n",
       "    </tr>\n",
       "    <tr>\n",
       "      <th>8</th>\n",
       "      <td>2020-06-24</td>\n",
       "      <td>1970-01-01 09:00:02.934</td>\n",
       "      <td>2330</td>\n",
       "      <td>319.0</td>\n",
       "      <td>3</td>\n",
       "      <td>319.0</td>\n",
       "      <td>764</td>\n",
       "      <td>318.5</td>\n",
       "      <td>499</td>\n",
       "    </tr>\n",
       "    <tr>\n",
       "      <th>9</th>\n",
       "      <td>2020-06-24</td>\n",
       "      <td>1970-01-01 09:00:03.031</td>\n",
       "      <td>2330</td>\n",
       "      <td>318.5</td>\n",
       "      <td>2</td>\n",
       "      <td>319.0</td>\n",
       "      <td>764</td>\n",
       "      <td>318.5</td>\n",
       "      <td>497</td>\n",
       "    </tr>\n",
       "  </tbody>\n",
       "</table>\n",
       "</div>"
      ],
      "text/plain": [
       "        Date                    Time  Code  Price  Volume  AskPrice  \\\n",
       "0 2020-06-24 1970-01-01 09:00:01.116  2330  319.0    3027     319.0   \n",
       "1 2020-06-24 1970-01-01 09:00:01.949  2330  318.5       1     319.0   \n",
       "2 2020-06-24 1970-01-01 09:00:02.068  2330  318.5       3     319.0   \n",
       "3 2020-06-24 1970-01-01 09:00:02.071  2330  319.0       1     319.0   \n",
       "4 2020-06-24 1970-01-01 09:00:02.087  2330  318.5       1     319.0   \n",
       "5 2020-06-24 1970-01-01 09:00:02.120  2330  318.5       5     319.0   \n",
       "6 2020-06-24 1970-01-01 09:00:02.292  2330  318.5       1     319.0   \n",
       "7 2020-06-24 1970-01-01 09:00:02.889  2330  319.0      54     319.0   \n",
       "8 2020-06-24 1970-01-01 09:00:02.934  2330  319.0       3     319.0   \n",
       "9 2020-06-24 1970-01-01 09:00:03.031  2330  318.5       2     319.0   \n",
       "\n",
       "   AskVolume  BidPrice  BidVolume  \n",
       "0        756     318.5        482  \n",
       "1        823     318.5        508  \n",
       "2        823     318.5        505  \n",
       "3        822     318.5        505  \n",
       "4        822     318.5        504  \n",
       "5        822     318.5        499  \n",
       "6        822     318.5        498  \n",
       "7        767     318.5        498  \n",
       "8        764     318.5        499  \n",
       "9        764     318.5        497  "
      ]
     },
     "execution_count": 55,
     "metadata": {},
     "output_type": "execute_result"
    }
   ],
   "source": [
    "ddb.run(\"\"\"\n",
    "select * from StreamTicks\n",
    "\"\"\")"
   ]
  },
  {
   "cell_type": "code",
   "execution_count": 42,
   "metadata": {},
   "outputs": [],
   "source": [
    "ddb.run('unsubscribeTable(, `StreamTicks, \"Ticks_to_dfs\")')"
   ]
  },
  {
   "cell_type": "code",
   "execution_count": 56,
   "metadata": {},
   "outputs": [
    {
     "data": {
      "text/html": [
       "<div>\n",
       "<style scoped>\n",
       "    .dataframe tbody tr th:only-of-type {\n",
       "        vertical-align: middle;\n",
       "    }\n",
       "\n",
       "    .dataframe tbody tr th {\n",
       "        vertical-align: top;\n",
       "    }\n",
       "\n",
       "    .dataframe thead th {\n",
       "        text-align: right;\n",
       "    }\n",
       "</style>\n",
       "<table border=\"1\" class=\"dataframe\">\n",
       "  <thead>\n",
       "    <tr style=\"text-align: right;\">\n",
       "      <th></th>\n",
       "      <th>workerId</th>\n",
       "      <th>topic</th>\n",
       "      <th>queueDepthLimit</th>\n",
       "      <th>queueDepth</th>\n",
       "      <th>processedMsgCount</th>\n",
       "      <th>lastMsgId</th>\n",
       "      <th>failedMsgCount</th>\n",
       "      <th>lastFailedMsgId</th>\n",
       "      <th>lastFailedTimestamp</th>\n",
       "      <th>lastErrMsg</th>\n",
       "    </tr>\n",
       "  </thead>\n",
       "  <tbody>\n",
       "  </tbody>\n",
       "</table>\n",
       "</div>"
      ],
      "text/plain": [
       "Empty DataFrame\n",
       "Columns: [workerId, topic, queueDepthLimit, queueDepth, processedMsgCount, lastMsgId, failedMsgCount, lastFailedMsgId, lastFailedTimestamp, lastErrMsg]\n",
       "Index: []"
      ]
     },
     "execution_count": 56,
     "metadata": {},
     "output_type": "execute_result"
    }
   ],
   "source": [
    "ddb.run(\"\"\"\n",
    "getStreamingStat().subWorkers\n",
    "\"\"\")"
   ]
  },
  {
   "cell_type": "code",
   "execution_count": 34,
   "metadata": {},
   "outputs": [],
   "source": [
    "# ddb.run(\"\"\"dropTable(database(\"dfs://ticks\"), `ticks_table)\"\"\")"
   ]
  },
  {
   "cell_type": "markdown",
   "metadata": {},
   "source": [
    "### StreamTable as DataPipeline\n",
    "\n",
    "Observer Pattern"
   ]
  }
 ],
 "metadata": {
  "kernelspec": {
   "display_name": "Python 3",
   "language": "python",
   "name": "python3"
  },
  "language_info": {
   "codemirror_mode": {
    "name": "ipython",
    "version": 3
   },
   "file_extension": ".py",
   "mimetype": "text/x-python",
   "name": "python",
   "nbconvert_exporter": "python",
   "pygments_lexer": "ipython3",
   "version": "3.7.0"
  }
 },
 "nbformat": 4,
 "nbformat_minor": 4
}
