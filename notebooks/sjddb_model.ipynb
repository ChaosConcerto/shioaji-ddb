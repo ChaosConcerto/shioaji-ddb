{
 "cells": [
  {
   "cell_type": "code",
   "execution_count": 1,
   "metadata": {},
   "outputs": [],
   "source": [
    "import xgboost as xgb\n",
    "import dolphindb \n",
    "import shioaji as sj"
   ]
  },
  {
   "cell_type": "code",
   "execution_count": 28,
   "metadata": {},
   "outputs": [],
   "source": [
    "import json\n",
    "with open(\"login.json\", \"r\") as f:\n",
    "    login_kwargs = json.loads(f.read())"
   ]
  },
  {
   "cell_type": "code",
   "execution_count": 29,
   "metadata": {},
   "outputs": [
    {
     "name": "stdout",
     "output_type": "stream",
     "text": [
      "Response Code: 0 | Event Code: 0 | Info: host '203.66.91.161:80', IP 203.66.91.161:80 (host 1 of 1) (host connection attempt 1 of 1) (total connection attempt 1 of 1) | Event: Session up\n",
      "SecurityType.Index\n",
      "SecurityType.Future\n",
      "SecurityType.Option\n",
      "SecurityType.Stock\n"
     ]
    }
   ],
   "source": [
    "api = sj.Shioaji()\n",
    "accounts = api.login(**login_kwargs, contracts_cb=print)"
   ]
  },
  {
   "cell_type": "code",
   "execution_count": 2,
   "metadata": {},
   "outputs": [
    {
     "data": {
      "text/plain": [
       "True"
      ]
     },
     "execution_count": 2,
     "metadata": {},
     "output_type": "execute_result"
    }
   ],
   "source": [
    "ddb = dolphindb.session()\n",
    "ddb.connect(\"localhost\", 8828, \"admin\", \"123456\")"
   ]
  },
  {
   "cell_type": "code",
   "execution_count": 9,
   "metadata": {},
   "outputs": [],
   "source": [
    "ddb.run(\"use ta\")"
   ]
  },
  {
   "cell_type": "code",
   "execution_count": 6,
   "metadata": {},
   "outputs": [],
   "source": [
    "LOAD_OHLCV_TABLE = \"\"\"\n",
    "ohlc_tick = loadTable(\"dfs://ohlc\", `ohlc)\n",
    "\"\"\""
   ]
  },
  {
   "cell_type": "code",
   "execution_count": 7,
   "metadata": {},
   "outputs": [],
   "source": [
    "ddb.run(LOAD_OHLCV_TABLE)"
   ]
  },
  {
   "cell_type": "code",
   "execution_count": 30,
   "metadata": {},
   "outputs": [
    {
     "data": {
      "text/html": [
       "<div>\n",
       "<style scoped>\n",
       "    .dataframe tbody tr th:only-of-type {\n",
       "        vertical-align: middle;\n",
       "    }\n",
       "\n",
       "    .dataframe tbody tr th {\n",
       "        vertical-align: top;\n",
       "    }\n",
       "\n",
       "    .dataframe thead th {\n",
       "        text-align: right;\n",
       "    }\n",
       "</style>\n",
       "<table border=\"1\" class=\"dataframe\">\n",
       "  <thead>\n",
       "    <tr style=\"text-align: right;\">\n",
       "      <th></th>\n",
       "      <th>Code</th>\n",
       "      <th>Date</th>\n",
       "      <th>Time</th>\n",
       "      <th>Open</th>\n",
       "      <th>High</th>\n",
       "      <th>Low</th>\n",
       "      <th>Close</th>\n",
       "      <th>volume</th>\n",
       "    </tr>\n",
       "  </thead>\n",
       "  <tbody>\n",
       "    <tr>\n",
       "      <th>0</th>\n",
       "      <td>TXFG0</td>\n",
       "      <td>2020-06-24</td>\n",
       "      <td>1970-01-01 16:59:00</td>\n",
       "      <td>11475.0</td>\n",
       "      <td>11476.0</td>\n",
       "      <td>11474.0</td>\n",
       "      <td>11475.0</td>\n",
       "      <td>20</td>\n",
       "    </tr>\n",
       "    <tr>\n",
       "      <th>1</th>\n",
       "      <td>TXFG0</td>\n",
       "      <td>2020-06-24</td>\n",
       "      <td>1970-01-01 17:00:00</td>\n",
       "      <td>11476.0</td>\n",
       "      <td>11476.0</td>\n",
       "      <td>11475.0</td>\n",
       "      <td>11476.0</td>\n",
       "      <td>28</td>\n",
       "    </tr>\n",
       "    <tr>\n",
       "      <th>2</th>\n",
       "      <td>TXFG0</td>\n",
       "      <td>2020-06-24</td>\n",
       "      <td>1970-01-01 17:01:00</td>\n",
       "      <td>11476.0</td>\n",
       "      <td>11478.0</td>\n",
       "      <td>11475.0</td>\n",
       "      <td>11477.0</td>\n",
       "      <td>28</td>\n",
       "    </tr>\n",
       "    <tr>\n",
       "      <th>3</th>\n",
       "      <td>TXFG0</td>\n",
       "      <td>2020-06-24</td>\n",
       "      <td>1970-01-01 17:02:00</td>\n",
       "      <td>11477.0</td>\n",
       "      <td>11478.0</td>\n",
       "      <td>11477.0</td>\n",
       "      <td>11477.0</td>\n",
       "      <td>49</td>\n",
       "    </tr>\n",
       "    <tr>\n",
       "      <th>4</th>\n",
       "      <td>TXFG0</td>\n",
       "      <td>2020-06-24</td>\n",
       "      <td>1970-01-01 17:03:00</td>\n",
       "      <td>11478.0</td>\n",
       "      <td>11479.0</td>\n",
       "      <td>11477.0</td>\n",
       "      <td>11478.0</td>\n",
       "      <td>62</td>\n",
       "    </tr>\n",
       "  </tbody>\n",
       "</table>\n",
       "</div>"
      ],
      "text/plain": [
       "    Code       Date                Time     Open     High      Low    Close  \\\n",
       "0  TXFG0 2020-06-24 1970-01-01 16:59:00  11475.0  11476.0  11474.0  11475.0   \n",
       "1  TXFG0 2020-06-24 1970-01-01 17:00:00  11476.0  11476.0  11475.0  11476.0   \n",
       "2  TXFG0 2020-06-24 1970-01-01 17:01:00  11476.0  11478.0  11475.0  11477.0   \n",
       "3  TXFG0 2020-06-24 1970-01-01 17:02:00  11477.0  11478.0  11477.0  11477.0   \n",
       "4  TXFG0 2020-06-24 1970-01-01 17:03:00  11478.0  11479.0  11477.0  11478.0   \n",
       "\n",
       "   volume  \n",
       "0      20  \n",
       "1      28  \n",
       "2      28  \n",
       "3      49  \n",
       "4      62  "
      ]
     },
     "execution_count": 30,
     "metadata": {},
     "output_type": "execute_result"
    }
   ],
   "source": [
    "ddb.run(\"\"\"\n",
    "select top 5 * from ohlc_tick\n",
    "\"\"\")"
   ]
  },
  {
   "cell_type": "code",
   "execution_count": 13,
   "metadata": {},
   "outputs": [],
   "source": [
    "df = ddb.run(\"\"\"\n",
    "temptb = select Date, Time, Code, Open, High, Low, Close, Volume, \n",
    "       sma(Close, 20) as ma20, sma(Close, 60) as ma60,\n",
    "       sma(Close, 20) - sma(Close, 60) as madiff,\n",
    "       // bBands(Close, 20, 2, 2, 0) as `upband`ma`downband, \n",
    "       natr(High, Low, Close, 20) as NATR,\n",
    "       (move(Close, -30) - Close) / Close as Label \n",
    "       from ohlc_tick context by Code\n",
    "select *, move(madiff, 1) as madiff1 from temptb\n",
    "\"\"\")"
   ]
  },
  {
   "cell_type": "code",
   "execution_count": 17,
   "metadata": {},
   "outputs": [],
   "source": [
    "model = xgb.Booster()"
   ]
  },
  {
   "cell_type": "code",
   "execution_count": 18,
   "metadata": {},
   "outputs": [],
   "source": [
    "model.load_model('model.xgb')"
   ]
  },
  {
   "cell_type": "code",
   "execution_count": 22,
   "metadata": {},
   "outputs": [],
   "source": [
    "data = xgb.DMatrix(df.iloc[-1:][[\"madiff\", \"madiff1\", \"NATR\"]])"
   ]
  },
  {
   "cell_type": "code",
   "execution_count": 23,
   "metadata": {},
   "outputs": [
    {
     "data": {
      "text/plain": [
       "array([-0.00229013], dtype=float32)"
      ]
     },
     "execution_count": 23,
     "metadata": {},
     "output_type": "execute_result"
    }
   ],
   "source": [
    "if model.predict(data)[0] >= 0.03:\n",
    "    api.place_order(api.Contracts.Futures[df['Code'].iloc[-1]],\n",
    "                    sj.Order(\n",
    "                        price=0, \n",
    "                        quantity=1, \n",
    "                        action=sj.constant.Action.Buy, \n",
    "                        price_type=sj.constant.FuturesPriceType.MKT,\n",
    "                        order_type=sj.constant.FuturesOrderType.ROD,\n",
    "                    )\n",
    "                    )\n"
   ]
  }
 ],
 "metadata": {
  "kernelspec": {
   "display_name": "Python 3",
   "language": "python",
   "name": "python3"
  },
  "language_info": {
   "codemirror_mode": {
    "name": "ipython",
    "version": 3
   },
   "file_extension": ".py",
   "mimetype": "text/x-python",
   "name": "python",
   "nbconvert_exporter": "python",
   "pygments_lexer": "ipython3",
   "version": "3.7.0"
  }
 },
 "nbformat": 4,
 "nbformat_minor": 4
}
